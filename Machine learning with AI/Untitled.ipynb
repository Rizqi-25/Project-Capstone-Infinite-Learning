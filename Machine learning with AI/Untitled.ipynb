{
 "cells": [
  {
   "cell_type": "code",
   "execution_count": 1,
   "id": "261163b6",
   "metadata": {},
   "outputs": [
    {
     "data": {
      "text/plain": [
       "7"
      ]
     },
     "execution_count": 1,
     "metadata": {},
     "output_type": "execute_result"
    }
   ],
   "source": [
    "3 + 2 * 2"
   ]
  },
  {
   "cell_type": "code",
   "execution_count": 2,
   "id": "1e288104",
   "metadata": {},
   "outputs": [],
   "source": [
    "import matplotlib.pyplot as plt"
   ]
  },
  {
   "cell_type": "markdown",
   "id": "ffaa4e49",
   "metadata": {},
   "source": [
    "name = 'Lizz'\n",
    "print(name[0:2])"
   ]
  },
  {
   "cell_type": "code",
   "execution_count": 3,
   "id": "287e4d2f",
   "metadata": {},
   "outputs": [
    {
     "name": "stdout",
     "output_type": "stream",
     "text": [
      "Li\n"
     ]
    }
   ],
   "source": [
    "name = 'Lizz'\n",
    "print(name[0:2])"
   ]
  },
  {
   "cell_type": "code",
   "execution_count": 4,
   "id": "98ba54b9",
   "metadata": {
    "scrolled": true
   },
   "outputs": [
    {
     "name": "stdout",
     "output_type": "stream",
     "text": [
      "0246\n"
     ]
    }
   ],
   "source": [
    "var = '01234567'\n",
    "print(var[::2])"
   ]
  },
  {
   "cell_type": "code",
   "execution_count": 5,
   "id": "8bd9b196",
   "metadata": {},
   "outputs": [
    {
     "data": {
      "text/plain": [
       "['b', 'c']"
      ]
     },
     "execution_count": 5,
     "metadata": {},
     "output_type": "execute_result"
    }
   ],
   "source": [
    "B=[\"a\",\"b\",\"c\"]\n",
    "B[1:]"
   ]
  },
  {
   "cell_type": "code",
   "execution_count": 6,
   "id": "503b3193",
   "metadata": {},
   "outputs": [
    {
     "data": {
      "text/plain": [
       "dict_values([0, 1, 2])"
      ]
     },
     "execution_count": 6,
     "metadata": {},
     "output_type": "execute_result"
    }
   ],
   "source": [
    "D = {'a':0,'b':1,'c':2}\n",
    "D.values()"
   ]
  },
  {
   "cell_type": "code",
   "execution_count": 7,
   "id": "cdd83151",
   "metadata": {},
   "outputs": [
    {
     "data": {
      "text/plain": [
       "(4, 4, 4)"
      ]
     },
     "execution_count": 7,
     "metadata": {},
     "output_type": "execute_result"
    }
   ],
   "source": [
    "Dict={\"A\":1,\"B\":\"2\",\"C\":[3,3,3],\"D\":(4,4,4),'E':5,'F':6}\n",
    "Dict[\"D\"]"
   ]
  },
  {
   "cell_type": "code",
   "execution_count": 8,
   "id": "1be4a775",
   "metadata": {},
   "outputs": [
    {
     "data": {
      "text/plain": [
       "True"
      ]
     },
     "execution_count": 8,
     "metadata": {},
     "output_type": "execute_result"
    }
   ],
   "source": [
    "i = 100000000\n",
    "i!= 0"
   ]
  },
  {
   "cell_type": "code",
   "execution_count": 9,
   "id": "2aaf0241",
   "metadata": {},
   "outputs": [
    {
     "name": "stdout",
     "output_type": "stream",
     "text": [
      "Annie was born in a leap year\n"
     ]
    }
   ],
   "source": [
    "Annie=1996\n",
    "Jane=1999\n",
    "if Annie%4==0:\n",
    "    print(\"Annie was born in a leap year\")\n",
    "elif Jane%4==0:\n",
    "    print(\"Jane was born in a leap year\")\n",
    "else:\n",
    "    print(\"None of them were born in a leap year\")"
   ]
  },
  {
   "cell_type": "code",
   "execution_count": 10,
   "id": "c67b7a28",
   "metadata": {},
   "outputs": [
    {
     "name": "stdout",
     "output_type": "stream",
     "text": [
      "Before square  0 is red\n",
      "After square  0 is white\n",
      "Before square  1 is yellow\n",
      "After square  1 is white\n",
      "Before square  2 is green\n",
      "After square  2 is white\n",
      "Before square  3 is purple\n",
      "After square  3 is white\n",
      "Before square  4 is blue\n",
      "After square  4 is white\n"
     ]
    }
   ],
   "source": [
    "# Use for loop to change the elements in list\n",
    "\n",
    "squares = ['red', 'yellow', 'green', 'purple', 'blue']\n",
    "\n",
    "for i in range(0, 5):\n",
    "    print(\"Before square \", i, 'is',  squares[i])\n",
    "    squares[i] = 'white'\n",
    "    print(\"After square \", i, 'is',  squares[i])"
   ]
  },
  {
   "cell_type": "code",
   "execution_count": 11,
   "id": "c1ee50c0",
   "metadata": {},
   "outputs": [
    {
     "name": "stdout",
     "output_type": "stream",
     "text": [
      "0 red\n",
      "1 yellow\n",
      "2 green\n",
      "3 purple\n",
      "4 blue\n"
     ]
    }
   ],
   "source": [
    "squares=['red', 'yellow', 'green', 'purple', 'blue']\n",
    "\n",
    "for i, square in enumerate(squares):\n",
    "    print(i, square)"
   ]
  },
  {
   "cell_type": "code",
   "execution_count": 12,
   "id": "bca42718",
   "metadata": {},
   "outputs": [],
   "source": [
    "# Create a class Circle\n",
    "\n",
    "class Circle(object):\n",
    "    \n",
    "    # Constructor\n",
    "    def __init__(self, radius=3, color='blue'):\n",
    "        self.radius = radius\n",
    "        self.color = color \n",
    "    \n",
    "    # Method\n",
    "    def add_radius(self, r):\n",
    "        self.radius = self.radius + r\n",
    "        return(self.radius)\n",
    "    \n",
    "    # Method\n",
    "    def drawCircle(self):\n",
    "        plt.gca().add_patch(plt.Circle((0, 0), radius=self.radius, fc=self.color))\n",
    "        plt.axis('scaled')\n",
    "        plt.show()  "
   ]
  },
  {
   "cell_type": "code",
   "execution_count": 13,
   "id": "4c10b851",
   "metadata": {},
   "outputs": [],
   "source": [
    "# Create an object RedCircle\n",
    "\n",
    "RedCircle = Circle(10, 'green')\n",
    "\n"
   ]
  },
  {
   "cell_type": "code",
   "execution_count": 14,
   "id": "cadca6fe",
   "metadata": {},
   "outputs": [
    {
     "data": {
      "text/plain": [
       "['__class__',\n",
       " '__delattr__',\n",
       " '__dict__',\n",
       " '__dir__',\n",
       " '__doc__',\n",
       " '__eq__',\n",
       " '__format__',\n",
       " '__ge__',\n",
       " '__getattribute__',\n",
       " '__getstate__',\n",
       " '__gt__',\n",
       " '__hash__',\n",
       " '__init__',\n",
       " '__init_subclass__',\n",
       " '__le__',\n",
       " '__lt__',\n",
       " '__module__',\n",
       " '__ne__',\n",
       " '__new__',\n",
       " '__reduce__',\n",
       " '__reduce_ex__',\n",
       " '__repr__',\n",
       " '__setattr__',\n",
       " '__sizeof__',\n",
       " '__str__',\n",
       " '__subclasshook__',\n",
       " '__weakref__',\n",
       " 'add_radius',\n",
       " 'color',\n",
       " 'drawCircle',\n",
       " 'radius']"
      ]
     },
     "execution_count": 14,
     "metadata": {},
     "output_type": "execute_result"
    }
   ],
   "source": [
    "# Find out the methods can be used on the object RedCircle\n",
    "\n",
    "dir(RedCircle)"
   ]
  },
  {
   "cell_type": "code",
   "execution_count": 15,
   "id": "e02941dd",
   "metadata": {},
   "outputs": [
    {
     "data": {
      "text/plain": [
       "10"
      ]
     },
     "execution_count": 15,
     "metadata": {},
     "output_type": "execute_result"
    }
   ],
   "source": [
    "# Print the object attribute radius\n",
    "\n",
    "RedCircle.radius"
   ]
  },
  {
   "cell_type": "code",
   "execution_count": 16,
   "id": "ff84048c",
   "metadata": {},
   "outputs": [
    {
     "data": {
      "image/png": "[encoded data removed]",
      "text/plain": [
       "<Figure size 640x480 with 1 Axes>"
      ]
     },
     "metadata": {},
     "output_type": "display_data"
    }
   ],
   "source": [
    "# Call the method drawCircle\n",
    "\n",
    "RedCircle.drawCircle()"
   ]
  },
  {
   "cell_type": "code",
   "execution_count": 17,
   "id": "47252fd8",
   "metadata": {},
   "outputs": [],
   "source": [
    "# Create a new Rectangle class for creating a rectangle object\n",
    "\n",
    "class Rectangle(object):\n",
    "    \n",
    "    # Constructor\n",
    "    def __init__(self, width=2, height=3, color='r'):\n",
    "        self.height = height \n",
    "        self.width = width\n",
    "        self.color = color\n",
    "    \n",
    "    # Method\n",
    "    def drawRectangle(self):\n",
    "        plt.gca().add_patch(plt.Rectangle((0, 0), self.width, self.height ,fc=self.color))\n",
    "        plt.axis('scaled')\n",
    "        plt.show()\n",
    "        "
   ]
  },
  {
   "cell_type": "code",
   "execution_count": 18,
   "id": "4cf633d9",
   "metadata": {},
   "outputs": [],
   "source": [
    "# Create a new object rectangle\n",
    "\n",
    "SkinnyBlueRectangle = Rectangle(2, 3, 'blue')"
   ]
  },
  {
   "cell_type": "code",
   "execution_count": 19,
   "id": "86289f97",
   "metadata": {},
   "outputs": [
    {
     "data": {
      "text/plain": [
       "3"
      ]
     },
     "execution_count": 19,
     "metadata": {},
     "output_type": "execute_result"
    }
   ],
   "source": [
    "# Print the object attribute height\n",
    "\n",
    "SkinnyBlueRectangle.height "
   ]
  },
  {
   "cell_type": "code",
   "execution_count": 20,
   "id": "8ef6eae3",
   "metadata": {},
   "outputs": [
    {
     "data": {
      "image/png": "[encoded data removed]",
      "text/plain": [
       "<Figure size 640x480 with 1 Axes>"
      ]
     },
     "metadata": {},
     "output_type": "display_data"
    }
   ],
   "source": [
    "# Use the drawRectangle method to draw the shape\n",
    "\n",
    "SkinnyBlueRectangle.drawRectangle()"
   ]
  },
  {
   "cell_type": "code",
   "execution_count": 21,
   "id": "ebd5264f",
   "metadata": {},
   "outputs": [],
   "source": [
    "# Create a new object rectangle\n",
    "\n",
    "FatYellowRectangle = Rectangle(20, 5, 'yellow')"
   ]
  },
  {
   "cell_type": "code",
   "execution_count": 22,
   "id": "6eb2b0fb",
   "metadata": {
    "scrolled": true
   },
   "outputs": [
    {
     "data": {
      "image/png": "[encoded data removed]",
      "text/plain": [
       "<Figure size 640x480 with 1 Axes>"
      ]
     },
     "metadata": {},
     "output_type": "display_data"
    }
   ],
   "source": [
    "# Use the drawRectangle method to draw the shape\n",
    "\n",
    "FatYellowRectangle.drawRectangle()"
   ]
  },
  {
   "cell_type": "code",
   "execution_count": 23,
   "id": "2cc85ab9",
   "metadata": {},
   "outputs": [
    {
     "name": "stdout",
     "output_type": "stream",
     "text": [
      "Properties of the Vehicle:\n",
      "Color: white\n",
      "Maximum Speed: 200\n",
      "Mileage: 50000\n",
      "Seating Capacity: 5\n",
      "Properties of the Vehicle:\n",
      "Color: white\n",
      "Maximum Speed: 180\n",
      "Mileage: 75000\n",
      "Seating Capacity: 4\n"
     ]
    }
   ],
   "source": [
    "class Vehicle:\n",
    "    color = \"white\"\n",
    "\n",
    "    def __init__(self, max_speed, mileage):\n",
    "        self.max_speed = max_speed\n",
    "        self.mileage = mileage\n",
    "        self.seating_capacity = None\n",
    "\n",
    "    def assign_seating_capacity(self, seating_capacity):\n",
    "        self.seating_capacity = seating_capacity\n",
    "\n",
    "    def display_properties(self):\n",
    "        print(\"Properties of the Vehicle:\")\n",
    "        print(\"Color:\", self.color)\n",
    "        print(\"Maximum Speed:\", self.max_speed)\n",
    "        print(\"Mileage:\", self.mileage)\n",
    "        print(\"Seating Capacity:\", self.seating_capacity)\n",
    "\n",
    "# Creating objects of the Vehicle class\n",
    "vehicle1 = Vehicle(200, 50000)\n",
    "vehicle1.assign_seating_capacity(5)\n",
    "vehicle1.display_properties()\n",
    "\n",
    "vehicle2 = Vehicle(180, 75000)\n",
    "vehicle2.assign_seating_capacity(4)\n",
    "vehicle2.display_properties()"
   ]
  },
  {
   "cell_type": "code",
   "execution_count": 24,
   "id": "0a02d1fa",
   "metadata": {},
   "outputs": [
    {
     "name": "stdout",
     "output_type": "stream",
     "text": [
      "11\n",
      "22\n",
      "33\n"
     ]
    }
   ],
   "source": [
    "A = ['1','2','3']\n",
    "\n",
    "for a in A:\n",
    "\n",
    "    print(2*a)"
   ]
  },
  {
   "cell_type": "code",
   "execution_count": 25,
   "id": "50c48637",
   "metadata": {},
   "outputs": [
    {
     "data": {
      "text/plain": [
       "array([ 1, -1])"
      ]
     },
     "execution_count": 25,
     "metadata": {},
     "output_type": "execute_result"
    }
   ],
   "source": [
    "import numpy as np\n",
    "\n",
    "np.array([1,-1])*np.array([1,1])"
   ]
  },
  {
   "cell_type": "code",
   "execution_count": 26,
   "id": "ef84d8f8",
   "metadata": {},
   "outputs": [
    {
     "data": {
      "text/plain": [
       "0"
      ]
     },
     "execution_count": 26,
     "metadata": {},
     "output_type": "execute_result"
    }
   ],
   "source": [
    "np.dot(np.array([1,-1]),np.array([1,1]))"
   ]
  },
  {
   "cell_type": "code",
   "execution_count": 27,
   "id": "015d1e0f",
   "metadata": {},
   "outputs": [
    {
     "data": {
      "text/plain": [
       "array([20,  1,  2,  3,  4])"
      ]
     },
     "execution_count": 27,
     "metadata": {},
     "output_type": "execute_result"
    }
   ],
   "source": [
    "# Create numpy array\n",
    "\n",
    "c = np.array([20, 1, 2, 3, 4])\n",
    "c"
   ]
  },
  {
   "cell_type": "code",
   "execution_count": 28,
   "id": "a519e8b9",
   "metadata": {},
   "outputs": [
    {
     "data": {
      "text/plain": [
       "array([100,   1,   2,   3,   4])"
      ]
     },
     "execution_count": 28,
     "metadata": {},
     "output_type": "execute_result"
    }
   ],
   "source": [
    "# Assign the first element to 100\n",
    "\n",
    "c[0] = 100\n",
    "c"
   ]
  },
  {
   "cell_type": "code",
   "execution_count": 29,
   "id": "f582146b",
   "metadata": {},
   "outputs": [
    {
     "data": {
      "text/plain": [
       "array([100,   1,   2,   3,   0])"
      ]
     },
     "execution_count": 29,
     "metadata": {},
     "output_type": "execute_result"
    }
   ],
   "source": [
    "# Assign the 5th element to 0\n",
    "\n",
    "c[4] = 0\n",
    "c"
   ]
  },
  {
   "cell_type": "code",
   "execution_count": 30,
   "id": "c4fe5ba2",
   "metadata": {},
   "outputs": [
    {
     "data": {
      "text/plain": [
       "array([10, 20, 30, 40, 50])"
      ]
     },
     "execution_count": 30,
     "metadata": {},
     "output_type": "execute_result"
    }
   ],
   "source": [
    "a = np.array([10, 2, 30, 40,50])\n",
    "\n",
    "# Enter your code here\n",
    "a[1] = 20\n",
    "a"
   ]
  },
  {
   "cell_type": "code",
   "execution_count": 31,
   "id": "ea79e6cc",
   "metadata": {
    "scrolled": true
   },
   "outputs": [
    {
     "ename": "ValueError",
     "evalue": "shapes (4,2) and (3,3) not aligned: 2 (dim 1) != 3 (dim 0)",
     "output_type": "error",
     "traceback": [
      "\u001b[1;31m---------------------------------------------------------------------------\u001b[0m",
      "\u001b[1;31mValueError\u001b[0m                                Traceback (most recent call last)",
      "Cell \u001b[1;32mIn[31], line 5\u001b[0m\n\u001b[0;32m      1\u001b[0m A \u001b[38;5;241m=\u001b[39m np\u001b[38;5;241m.\u001b[39marray([[\u001b[38;5;241m1\u001b[39m,\u001b[38;5;241m2\u001b[39m],[\u001b[38;5;241m3\u001b[39m,\u001b[38;5;241m4\u001b[39m],[\u001b[38;5;241m5\u001b[39m,\u001b[38;5;241m6\u001b[39m],[\u001b[38;5;241m7\u001b[39m,\u001b[38;5;241m8\u001b[39m]])\n\u001b[0;32m      3\u001b[0m B \u001b[38;5;241m=\u001b[39m np\u001b[38;5;241m.\u001b[39marray([[\u001b[38;5;241m1\u001b[39m,\u001b[38;5;241m2\u001b[39m,\u001b[38;5;241m3\u001b[39m],[\u001b[38;5;241m4\u001b[39m,\u001b[38;5;241m5\u001b[39m,\u001b[38;5;241m6\u001b[39m],[\u001b[38;5;241m7\u001b[39m,\u001b[38;5;241m8\u001b[39m,\u001b[38;5;241m9\u001b[39m]])\n\u001b[1;32m----> 5\u001b[0m \u001b[43mnp\u001b[49m\u001b[38;5;241;43m.\u001b[39;49m\u001b[43mdot\u001b[49m\u001b[43m(\u001b[49m\u001b[43mA\u001b[49m\u001b[43m,\u001b[49m\u001b[43mB\u001b[49m\u001b[43m)\u001b[49m\n",
      "File \u001b[1;32m<__array_function__ internals>:200\u001b[0m, in \u001b[0;36mdot\u001b[1;34m(*args, **kwargs)\u001b[0m\n",
      "\u001b[1;31mValueError\u001b[0m: shapes (4,2) and (3,3) not aligned: 2 (dim 1) != 3 (dim 0)"
     ]
    }
   ],
   "source": [
    "A = np.array([[1,2],[3,4],[5,6],[7,8]])\n",
    "\n",
    "B = np.array([[1,2,3],[4,5,6],[7,8,9]])\n",
    "\n",
    "np.dot(A,B)"
   ]
  },
  {
   "cell_type": "code",
   "execution_count": 32,
   "id": "12aa3aa8",
   "metadata": {},
   "outputs": [],
   "source": [
    "import requests\n",
    "import os \n",
    "from PIL import Image\n",
    "from IPython.display import IFrame\n",
    "url='https://www.ibm.com/'\n",
    "r=requests.get(url)\n"
   ]
  },
  {
   "cell_type": "code",
   "execution_count": 33,
   "id": "df70d0dd",
   "metadata": {},
   "outputs": [
    {
     "data": {
      "text/plain": [
       "200"
      ]
     },
     "execution_count": 33,
     "metadata": {},
     "output_type": "execute_result"
    }
   ],
   "source": [
    "r.status_code"
   ]
  },
  {
   "cell_type": "code",
   "execution_count": 34,
   "id": "8898ebc7",
   "metadata": {},
   "outputs": [
    {
     "name": "stdout",
     "output_type": "stream",
     "text": [
      "{'User-Agent': 'python-requests/2.31.0', 'Accept-Encoding': 'gzip, deflate', 'Accept': '*/*', 'Connection': 'keep-alive', 'Cookie': '_abck=21D28BD73E056E2D8310F9580DB3CD26~-1~YAAQlrjbFxN+JdGJAQAAOPc+/goKEqik8Vx++SfKLQ6EIO3hnVVCslQE1VaUB3rWxZOuakdlfxVX3vW7jkgAPK6hvkM5zoG3wyFnHI0vwd4ScM6Sjf4E9mQO2eKRy/IX5iys8UyVWqFZLAA/gS0EgIF4od/t8QnXlmV+64MpCIgmEPjEGP/ylk92VSgablDeMsU7qrV1rYnlNhXzFluDpA+961Ou44gA+z8mCmDWfDNc8+GDH9EVdqwEnc4nlDetz78thWr9GYxr8WovlNAOF1u84324L441NsSkqyTuAAT55e4ZkOg76ufzDbyWCzIC65pXpLP2cJTk4uAkWYCgDcwJWaJ8dWQ24oGqH3AjgI1ebdRkIPM=~-1~-1~-1; bm_sz=9F3179BFB7B86BB2EE8CD2EEE5928228~YAAQlrjbFxR+JdGJAQAAOPc+/hTHA0dD/ZvWLGZgmr79NnhtAfwedtGgZ6FqUxl73fehxg41s380n4dvLUKp29IYzP/NnzBkZoSCykv2/9hpFVfM5svef9uUVD7gYRBzmiCP6t5qzlYT9ME82LWaSRtn8MgVVa5mnH6RXhgwYn3rH90ftkh/HDC4vMKJo16yb1gP0ZMrNnNWvmfNS8EtBeayysqaZpDljXJQu8T8e2RyJgs/WfZ8kLeHveeoN8gGox6G13KTRX+GrJ8AErIJLaujXN3BBZAUz8xrsIqwXX8=~3556658~3225652'}\n"
     ]
    }
   ],
   "source": [
    "print(r.request.headers)"
   ]
  },
  {
   "cell_type": "code",
   "execution_count": 35,
   "id": "720191df",
   "metadata": {},
   "outputs": [
    {
     "name": "stdout",
     "output_type": "stream",
     "text": [
      "request body: None\n",
      "{'Content-Type': 'text/html;charset=utf-8', 'X-Dispatcher': 'prod-publish-0', 'X-Vhost': 'publish', 'Last-Modified': 'Tue, 15 Aug 2023 21:59:19 GMT', 'CF-Cache-Status': 'DYNAMIC', 'Server': 'cloudflare', 'CF-RAY': '7f7585040d374000-SIN', 'Cache-Control': 'max-age=44074', 'Expires': 'Thu, 17 Aug 2023 00:22:41 GMT', 'X-Akamai-Transformed': '9 8817 0 pmb=mTOE,2', 'Content-Encoding': 'gzip', 'Date': 'Wed, 16 Aug 2023 12:08:07 GMT', 'Content-Length': '9140', 'Connection': 'keep-alive', 'Vary': 'Accept-Encoding', 'x-content-type-options': 'nosniff', 'X-XSS-Protection': '1; mode=block', 'Content-Security-Policy': 'upgrade-insecure-requests', 'Strict-Transport-Security': 'max-age=31536000', 'x-ibm-trace': 'www-dipatcher: dynamic rule'}\n"
     ]
    }
   ],
   "source": [
    "print(\"request body:\", r.request.body)\n",
    "header=r.headers\n",
    "print(r.headers)"
   ]
  },
  {
   "cell_type": "code",
   "execution_count": 36,
   "id": "69b54fbf",
   "metadata": {},
   "outputs": [
    {
     "data": {
      "text/plain": [
       "'Wed, 16 Aug 2023 12:08:07 GMT'"
      ]
     },
     "execution_count": 36,
     "metadata": {},
     "output_type": "execute_result"
    }
   ],
   "source": [
    "header['date']"
   ]
  },
  {
   "cell_type": "code",
   "execution_count": 37,
   "id": "e995dbd9",
   "metadata": {},
   "outputs": [],
   "source": [
    "payload={\"name\":\"Joseph\",\"ID\":\"123\"}\n",
    "url_post='http://httpbin.org/post'\n",
    "r_post=requests.post(url_post,data=payload)"
   ]
  },
  {
   "cell_type": "code",
   "execution_count": 38,
   "id": "c396e60b",
   "metadata": {},
   "outputs": [
    {
     "name": "stdout",
     "output_type": "stream",
     "text": [
      "POST request URL: http://httpbin.org/post\n",
      "GET request URL: https://www.ibm.com/id-id\n"
     ]
    }
   ],
   "source": [
    "print(\"POST request URL:\",r_post.url )\n",
    "print(\"GET request URL:\",r.url)"
   ]
  },
  {
   "cell_type": "code",
   "execution_count": 39,
   "id": "4d454386",
   "metadata": {},
   "outputs": [
    {
     "name": "stdout",
     "output_type": "stream",
     "text": [
      "POST request body: name=Joseph&ID=123\n",
      "GET request body: None\n"
     ]
    }
   ],
   "source": [
    "print(\"POST request body:\",r_post.request.body)\n",
    "print(\"GET request body:\",r.request.body)"
   ]
  },
  {
   "cell_type": "code",
   "execution_count": 40,
   "id": "f3c1bf18",
   "metadata": {},
   "outputs": [
    {
     "data": {
      "text/plain": [
       "{'ID': '123', 'name': 'Joseph'}"
      ]
     },
     "execution_count": 40,
     "metadata": {},
     "output_type": "execute_result"
    }
   ],
   "source": [
    "r_post.json()['form']"
   ]
  },
  {
   "cell_type": "code",
   "execution_count": 41,
   "id": "9077f8ba",
   "metadata": {},
   "outputs": [
    {
     "name": "stdout",
     "output_type": "stream",
     "text": [
      "Defaulting to user installation because normal site-packages is not writeable\n",
      "Requirement already satisfied: randomuser in c:\\users\\rizqi\\appdata\\roaming\\python\\python311\\site-packages (1.6)\n"
     ]
    },
    {
     "name": "stderr",
     "output_type": "stream",
     "text": [
      "\n",
      "[notice] A new release of pip available: 22.3.1 -> 23.2.1\n",
      "[notice] To update, run: python.exe -m pip install --upgrade pip\n"
     ]
    }
   ],
   "source": [
    "!pip install randomuser"
   ]
  },
  {
   "cell_type": "code",
   "execution_count": 42,
   "id": "4fbd30c2",
   "metadata": {},
   "outputs": [],
   "source": [
    "from randomuser import RandomUser\n",
    "import pandas as pd"
   ]
  },
  {
   "cell_type": "code",
   "execution_count": 43,
   "id": "c2cde0dd",
   "metadata": {},
   "outputs": [],
   "source": [
    "r = RandomUser()"
   ]
  },
  {
   "cell_type": "code",
   "execution_count": 44,
   "id": "1dfaefdf",
   "metadata": {},
   "outputs": [
    {
     "data": {
      "text/plain": [
       "[<randomuser.RandomUser at 0x231d5dbcfd0>,\n",
       " <randomuser.RandomUser at 0x231d5dbd010>,\n",
       " <randomuser.RandomUser at 0x231d5dbd050>,\n",
       " <randomuser.RandomUser at 0x231d5dbd090>,\n",
       " <randomuser.RandomUser at 0x231d5dbd0d0>,\n",
       " <randomuser.RandomUser at 0x231d5dbd150>,\n",
       " <randomuser.RandomUser at 0x231d5dbd190>,\n",
       " <randomuser.RandomUser at 0x231d5dbd1d0>,\n",
       " <randomuser.RandomUser at 0x231d5dbd210>,\n",
       " <randomuser.RandomUser at 0x231d5dbd110>]"
      ]
     },
     "execution_count": 44,
     "metadata": {},
     "output_type": "execute_result"
    }
   ],
   "source": [
    "some_list = r.generate_users(10)\n",
    "some_list"
   ]
  },
  {
   "cell_type": "code",
   "execution_count": 45,
   "id": "47374e39",
   "metadata": {},
   "outputs": [
    {
     "data": {
      "text/plain": [
       "'رونیکا حسینی'"
      ]
     },
     "execution_count": 45,
     "metadata": {},
     "output_type": "execute_result"
    }
   ],
   "source": [
    "name = r.get_full_name()\n",
    "name"
   ]
  },
  {
   "cell_type": "code",
   "execution_count": 46,
   "id": "311742fd",
   "metadata": {},
   "outputs": [
    {
     "name": "stdout",
     "output_type": "stream",
     "text": [
      "Gül Baykam   gul.baykam@example.com\n",
      "Claude Stevens   claude.stevens@example.com\n",
      "Alexis Day   alexis.day@example.com\n",
      "Kuzey Yetkiner   kuzey.yetkiner@example.com\n",
      "درسا سلطانی نژاد   drs.sltnynjd@example.com\n",
      "Lumi Kokko   lumi.kokko@example.com\n",
      "حسین سالاری   hsyn.slry@example.com\n",
      "Aude Rolland   aude.rolland@example.com\n",
      "Gunnar Bücker   gunnar.bucker@example.com\n",
      "Fidan Van Hoesel   fidan.vanhoesel@example.com\n"
     ]
    }
   ],
   "source": [
    "for user in some_list:\n",
    "    print (user.get_full_name(),\" \",user.get_email())"
   ]
  },
  {
   "cell_type": "code",
   "execution_count": 47,
   "id": "42992230",
   "metadata": {},
   "outputs": [
    {
     "name": "stdout",
     "output_type": "stream",
     "text": [
      "https://randomuser.me/api/portraits/women/49.jpg\n",
      "https://randomuser.me/api/portraits/men/6.jpg\n",
      "https://randomuser.me/api/portraits/women/95.jpg\n",
      "https://randomuser.me/api/portraits/men/8.jpg\n",
      "https://randomuser.me/api/portraits/women/49.jpg\n",
      "https://randomuser.me/api/portraits/women/8.jpg\n",
      "https://randomuser.me/api/portraits/men/78.jpg\n",
      "https://randomuser.me/api/portraits/women/84.jpg\n",
      "https://randomuser.me/api/portraits/men/90.jpg\n",
      "https://randomuser.me/api/portraits/women/75.jpg\n"
     ]
    }
   ],
   "source": [
    "#Get Photos\n",
    "for user in some_list:\n",
    "    print(user.get_picture())"
   ]
  },
  {
   "cell_type": "code",
   "execution_count": 48,
   "id": "1b9a81c9",
   "metadata": {},
   "outputs": [],
   "source": [
    "def get_users():\n",
    "    users =[]\n",
    "     \n",
    "    for user in RandomUser.generate_users(10):\n",
    "        users.append({\"Name\":user.get_full_name(),\"Gender\":user.get_gender(),\"City\":user.get_city(),\"State\":user.get_state(),\"Email\":user.get_email(), \"DOB\":user.get_dob(),\"Picture\":user.get_picture()})\n",
    "      \n",
    "    return pd.DataFrame(users)     "
   ]
  },
  {
   "cell_type": "code",
   "execution_count": 49,
   "id": "3458fea4",
   "metadata": {},
   "outputs": [
    {
     "data": {
      "text/html": [
       "<div>\n",
       "<style scoped>\n",
       "    .dataframe tbody tr th:only-of-type {\n",
       "        vertical-align: middle;\n",
       "    }\n",
       "\n",
       "    .dataframe tbody tr th {\n",
       "        vertical-align: top;\n",
       "    }\n",
       "\n",
       "    .dataframe thead th {\n",
       "        text-align: right;\n",
       "    }\n",
       "</style>\n",
       "<table border=\"1\" class=\"dataframe\">\n",
       "  <thead>\n",
       "    <tr style=\"text-align: right;\">\n",
       "      <th></th>\n",
       "      <th>Name</th>\n",
       "      <th>Gender</th>\n",
       "      <th>City</th>\n",
       "      <th>State</th>\n",
       "      <th>Email</th>\n",
       "      <th>DOB</th>\n",
       "      <th>Picture</th>\n",
       "    </tr>\n",
       "  </thead>\n",
       "  <tbody>\n",
       "    <tr>\n",
       "      <th>0</th>\n",
       "      <td>Enni Kangas</td>\n",
       "      <td>female</td>\n",
       "      <td>Luhanka</td>\n",
       "      <td>Finland Proper</td>\n",
       "      <td>enni.kangas@example.com</td>\n",
       "      <td>1981-11-07T09:41:26.336Z</td>\n",
       "      <td>https://randomuser.me/api/portraits/women/19.jpg</td>\n",
       "    </tr>\n",
       "    <tr>\n",
       "      <th>1</th>\n",
       "      <td>Adem Beşerler</td>\n",
       "      <td>male</td>\n",
       "      <td>Samsun</td>\n",
       "      <td>Mardin</td>\n",
       "      <td>adem.beserler@example.com</td>\n",
       "      <td>1997-03-19T10:45:24.817Z</td>\n",
       "      <td>https://randomuser.me/api/portraits/men/91.jpg</td>\n",
       "    </tr>\n",
       "    <tr>\n",
       "      <th>2</th>\n",
       "      <td>Justine Chow</td>\n",
       "      <td>female</td>\n",
       "      <td>Borden</td>\n",
       "      <td>Prince Edward Island</td>\n",
       "      <td>justine.chow@example.com</td>\n",
       "      <td>1990-12-28T16:39:09.340Z</td>\n",
       "      <td>https://randomuser.me/api/portraits/women/68.jpg</td>\n",
       "    </tr>\n",
       "    <tr>\n",
       "      <th>3</th>\n",
       "      <td>Lillian Garza</td>\n",
       "      <td>female</td>\n",
       "      <td>Sydney</td>\n",
       "      <td>Tasmania</td>\n",
       "      <td>lillian.garza@example.com</td>\n",
       "      <td>1992-05-10T22:26:40.397Z</td>\n",
       "      <td>https://randomuser.me/api/portraits/women/63.jpg</td>\n",
       "    </tr>\n",
       "    <tr>\n",
       "      <th>4</th>\n",
       "      <td>Karen Hanson</td>\n",
       "      <td>female</td>\n",
       "      <td>Dunboyne</td>\n",
       "      <td>Westmeath</td>\n",
       "      <td>karen.hanson@example.com</td>\n",
       "      <td>1944-10-31T03:43:52.506Z</td>\n",
       "      <td>https://randomuser.me/api/portraits/women/29.jpg</td>\n",
       "    </tr>\n",
       "    <tr>\n",
       "      <th>5</th>\n",
       "      <td>Gilbert Peterson</td>\n",
       "      <td>male</td>\n",
       "      <td>Worcester</td>\n",
       "      <td>Northamptonshire</td>\n",
       "      <td>gilbert.peterson@example.com</td>\n",
       "      <td>1956-02-05T08:09:43.352Z</td>\n",
       "      <td>https://randomuser.me/api/portraits/men/54.jpg</td>\n",
       "    </tr>\n",
       "    <tr>\n",
       "      <th>6</th>\n",
       "      <td>Stella Crawford</td>\n",
       "      <td>female</td>\n",
       "      <td>Wagga Wagga</td>\n",
       "      <td>New South Wales</td>\n",
       "      <td>stella.crawford@example.com</td>\n",
       "      <td>1984-10-28T19:50:58.819Z</td>\n",
       "      <td>https://randomuser.me/api/portraits/women/10.jpg</td>\n",
       "    </tr>\n",
       "    <tr>\n",
       "      <th>7</th>\n",
       "      <td>Charlie Soto</td>\n",
       "      <td>male</td>\n",
       "      <td>Coral Springs</td>\n",
       "      <td>Idaho</td>\n",
       "      <td>charlie.soto@example.com</td>\n",
       "      <td>1958-12-02T00:23:38.850Z</td>\n",
       "      <td>https://randomuser.me/api/portraits/men/71.jpg</td>\n",
       "    </tr>\n",
       "    <tr>\n",
       "      <th>8</th>\n",
       "      <td>Emilia Aguilar</td>\n",
       "      <td>female</td>\n",
       "      <td>Sevilla</td>\n",
       "      <td>Cataluña</td>\n",
       "      <td>emilia.aguilar@example.com</td>\n",
       "      <td>1977-06-28T11:29:03.724Z</td>\n",
       "      <td>https://randomuser.me/api/portraits/women/58.jpg</td>\n",
       "    </tr>\n",
       "    <tr>\n",
       "      <th>9</th>\n",
       "      <td>Aapo Couri</td>\n",
       "      <td>male</td>\n",
       "      <td>Luhanka</td>\n",
       "      <td>Northern Ostrobothnia</td>\n",
       "      <td>aapo.couri@example.com</td>\n",
       "      <td>1960-11-25T14:18:07.569Z</td>\n",
       "      <td>https://randomuser.me/api/portraits/men/91.jpg</td>\n",
       "    </tr>\n",
       "  </tbody>\n",
       "</table>\n",
       "</div>"
      ],
      "text/plain": [
       "               Name  Gender           City                  State  \\\n",
       "0       Enni Kangas  female        Luhanka         Finland Proper   \n",
       "1     Adem Beşerler    male         Samsun                 Mardin   \n",
       "2      Justine Chow  female         Borden   Prince Edward Island   \n",
       "3     Lillian Garza  female         Sydney               Tasmania   \n",
       "4      Karen Hanson  female       Dunboyne              Westmeath   \n",
       "5  Gilbert Peterson    male      Worcester       Northamptonshire   \n",
       "6   Stella Crawford  female    Wagga Wagga        New South Wales   \n",
       "7      Charlie Soto    male  Coral Springs                  Idaho   \n",
       "8    Emilia Aguilar  female        Sevilla               Cataluña   \n",
       "9        Aapo Couri    male        Luhanka  Northern Ostrobothnia   \n",
       "\n",
       "                          Email                       DOB  \\\n",
       "0       enni.kangas@example.com  1981-11-07T09:41:26.336Z   \n",
       "1     adem.beserler@example.com  1997-03-19T10:45:24.817Z   \n",
       "2      justine.chow@example.com  1990-12-28T16:39:09.340Z   \n",
       "3     lillian.garza@example.com  1992-05-10T22:26:40.397Z   \n",
       "4      karen.hanson@example.com  1944-10-31T03:43:52.506Z   \n",
       "5  gilbert.peterson@example.com  1956-02-05T08:09:43.352Z   \n",
       "6   stella.crawford@example.com  1984-10-28T19:50:58.819Z   \n",
       "7      charlie.soto@example.com  1958-12-02T00:23:38.850Z   \n",
       "8    emilia.aguilar@example.com  1977-06-28T11:29:03.724Z   \n",
       "9        aapo.couri@example.com  1960-11-25T14:18:07.569Z   \n",
       "\n",
       "                                            Picture  \n",
       "0  https://randomuser.me/api/portraits/women/19.jpg  \n",
       "1    https://randomuser.me/api/portraits/men/91.jpg  \n",
       "2  https://randomuser.me/api/portraits/women/68.jpg  \n",
       "3  https://randomuser.me/api/portraits/women/63.jpg  \n",
       "4  https://randomuser.me/api/portraits/women/29.jpg  \n",
       "5    https://randomuser.me/api/portraits/men/54.jpg  \n",
       "6  https://randomuser.me/api/portraits/women/10.jpg  \n",
       "7    https://randomuser.me/api/portraits/men/71.jpg  \n",
       "8  https://randomuser.me/api/portraits/women/58.jpg  \n",
       "9    https://randomuser.me/api/portraits/men/91.jpg  "
      ]
     },
     "execution_count": 49,
     "metadata": {},
     "output_type": "execute_result"
    }
   ],
   "source": [
    "get_users()"
   ]
  },
  {
   "cell_type": "code",
   "execution_count": 51,
   "id": "422ac3b9",
   "metadata": {},
   "outputs": [
    {
     "data": {
      "text/html": [
       "<div>\n",
       "<style scoped>\n",
       "    .dataframe tbody tr th:only-of-type {\n",
       "        vertical-align: middle;\n",
       "    }\n",
       "\n",
       "    .dataframe tbody tr th {\n",
       "        vertical-align: top;\n",
       "    }\n",
       "\n",
       "    .dataframe thead th {\n",
       "        text-align: right;\n",
       "    }\n",
       "</style>\n",
       "<table border=\"1\" class=\"dataframe\">\n",
       "  <thead>\n",
       "    <tr style=\"text-align: right;\">\n",
       "      <th></th>\n",
       "      <th>Name</th>\n",
       "      <th>Gender</th>\n",
       "      <th>City</th>\n",
       "      <th>State</th>\n",
       "      <th>Email</th>\n",
       "      <th>DOB</th>\n",
       "      <th>Picture</th>\n",
       "    </tr>\n",
       "  </thead>\n",
       "  <tbody>\n",
       "    <tr>\n",
       "      <th>0</th>\n",
       "      <td>Barış Tunaboylu</td>\n",
       "      <td>male</td>\n",
       "      <td>Malatya</td>\n",
       "      <td>Iğdır</td>\n",
       "      <td>baris.tunaboylu@example.com</td>\n",
       "      <td>1990-07-08T14:17:25.679Z</td>\n",
       "      <td>https://randomuser.me/api/portraits/men/28.jpg</td>\n",
       "    </tr>\n",
       "    <tr>\n",
       "      <th>1</th>\n",
       "      <td>Veeti Kauppila</td>\n",
       "      <td>male</td>\n",
       "      <td>Malax</td>\n",
       "      <td>Pirkanmaa</td>\n",
       "      <td>veeti.kauppila@example.com</td>\n",
       "      <td>1947-06-17T18:19:22.343Z</td>\n",
       "      <td>https://randomuser.me/api/portraits/men/85.jpg</td>\n",
       "    </tr>\n",
       "    <tr>\n",
       "      <th>2</th>\n",
       "      <td>Lauri Eskola</td>\n",
       "      <td>male</td>\n",
       "      <td>Varkaus</td>\n",
       "      <td>Central Ostrobothnia</td>\n",
       "      <td>lauri.eskola@example.com</td>\n",
       "      <td>1967-05-04T09:04:06.422Z</td>\n",
       "      <td>https://randomuser.me/api/portraits/men/75.jpg</td>\n",
       "    </tr>\n",
       "    <tr>\n",
       "      <th>3</th>\n",
       "      <td>Camilla Hessen</td>\n",
       "      <td>female</td>\n",
       "      <td>Noresund</td>\n",
       "      <td>Trøndelag</td>\n",
       "      <td>camilla.hessen@example.com</td>\n",
       "      <td>1978-01-13T20:43:54.553Z</td>\n",
       "      <td>https://randomuser.me/api/portraits/women/32.jpg</td>\n",
       "    </tr>\n",
       "    <tr>\n",
       "      <th>4</th>\n",
       "      <td>Benta Gonçalves</td>\n",
       "      <td>female</td>\n",
       "      <td>Poá</td>\n",
       "      <td>Santa Catarina</td>\n",
       "      <td>benta.goncalves@example.com</td>\n",
       "      <td>1978-04-17T14:46:30.560Z</td>\n",
       "      <td>https://randomuser.me/api/portraits/women/22.jpg</td>\n",
       "    </tr>\n",
       "    <tr>\n",
       "      <th>5</th>\n",
       "      <td>Betty Creusen</td>\n",
       "      <td>female</td>\n",
       "      <td>Zeevang</td>\n",
       "      <td>Zuid-Holland</td>\n",
       "      <td>betty.creusen@example.com</td>\n",
       "      <td>1950-07-13T19:07:27.979Z</td>\n",
       "      <td>https://randomuser.me/api/portraits/women/57.jpg</td>\n",
       "    </tr>\n",
       "    <tr>\n",
       "      <th>6</th>\n",
       "      <td>Djim Remmers</td>\n",
       "      <td>male</td>\n",
       "      <td>Castenray</td>\n",
       "      <td>Flevoland</td>\n",
       "      <td>djim.remmers@example.com</td>\n",
       "      <td>1983-07-05T20:18:21.037Z</td>\n",
       "      <td>https://randomuser.me/api/portraits/men/3.jpg</td>\n",
       "    </tr>\n",
       "    <tr>\n",
       "      <th>7</th>\n",
       "      <td>Penny Garrett</td>\n",
       "      <td>female</td>\n",
       "      <td>Lexington</td>\n",
       "      <td>Oklahoma</td>\n",
       "      <td>penny.garrett@example.com</td>\n",
       "      <td>1975-06-23T15:22:19.774Z</td>\n",
       "      <td>https://randomuser.me/api/portraits/women/8.jpg</td>\n",
       "    </tr>\n",
       "    <tr>\n",
       "      <th>8</th>\n",
       "      <td>Ernest Sanchez</td>\n",
       "      <td>male</td>\n",
       "      <td>Maitland</td>\n",
       "      <td>Western Australia</td>\n",
       "      <td>ernest.sanchez@example.com</td>\n",
       "      <td>1947-07-11T06:17:40.495Z</td>\n",
       "      <td>https://randomuser.me/api/portraits/men/92.jpg</td>\n",
       "    </tr>\n",
       "    <tr>\n",
       "      <th>9</th>\n",
       "      <td>Nathaniel Cole</td>\n",
       "      <td>male</td>\n",
       "      <td>Geraldton</td>\n",
       "      <td>Victoria</td>\n",
       "      <td>nathaniel.cole@example.com</td>\n",
       "      <td>1992-10-14T21:28:48.583Z</td>\n",
       "      <td>https://randomuser.me/api/portraits/men/38.jpg</td>\n",
       "    </tr>\n",
       "  </tbody>\n",
       "</table>\n",
       "</div>"
      ],
      "text/plain": [
       "              Name  Gender       City                 State  \\\n",
       "0  Barış Tunaboylu    male    Malatya                 Iğdır   \n",
       "1   Veeti Kauppila    male      Malax             Pirkanmaa   \n",
       "2     Lauri Eskola    male    Varkaus  Central Ostrobothnia   \n",
       "3   Camilla Hessen  female   Noresund             Trøndelag   \n",
       "4  Benta Gonçalves  female        Poá        Santa Catarina   \n",
       "5    Betty Creusen  female    Zeevang          Zuid-Holland   \n",
       "6     Djim Remmers    male  Castenray             Flevoland   \n",
       "7    Penny Garrett  female  Lexington              Oklahoma   \n",
       "8   Ernest Sanchez    male   Maitland     Western Australia   \n",
       "9   Nathaniel Cole    male  Geraldton              Victoria   \n",
       "\n",
       "                         Email                       DOB  \\\n",
       "0  baris.tunaboylu@example.com  1990-07-08T14:17:25.679Z   \n",
       "1   veeti.kauppila@example.com  1947-06-17T18:19:22.343Z   \n",
       "2     lauri.eskola@example.com  1967-05-04T09:04:06.422Z   \n",
       "3   camilla.hessen@example.com  1978-01-13T20:43:54.553Z   \n",
       "4  benta.goncalves@example.com  1978-04-17T14:46:30.560Z   \n",
       "5    betty.creusen@example.com  1950-07-13T19:07:27.979Z   \n",
       "6     djim.remmers@example.com  1983-07-05T20:18:21.037Z   \n",
       "7    penny.garrett@example.com  1975-06-23T15:22:19.774Z   \n",
       "8   ernest.sanchez@example.com  1947-07-11T06:17:40.495Z   \n",
       "9   nathaniel.cole@example.com  1992-10-14T21:28:48.583Z   \n",
       "\n",
       "                                            Picture  \n",
       "0    https://randomuser.me/api/portraits/men/28.jpg  \n",
       "1    https://randomuser.me/api/portraits/men/85.jpg  \n",
       "2    https://randomuser.me/api/portraits/men/75.jpg  \n",
       "3  https://randomuser.me/api/portraits/women/32.jpg  \n",
       "4  https://randomuser.me/api/portraits/women/22.jpg  \n",
       "5  https://randomuser.me/api/portraits/women/57.jpg  \n",
       "6     https://randomuser.me/api/portraits/men/3.jpg  \n",
       "7   https://randomuser.me/api/portraits/women/8.jpg  \n",
       "8    https://randomuser.me/api/portraits/men/92.jpg  \n",
       "9    https://randomuser.me/api/portraits/men/38.jpg  "
      ]
     },
     "execution_count": 51,
     "metadata": {},
     "output_type": "execute_result"
    }
   ],
   "source": [
    "df1 = pd.DataFrame(get_users())\n",
    "df1"
   ]
  },
  {
   "cell_type": "code",
   "execution_count": 53,
   "id": "5ef4dfc4",
   "metadata": {},
   "outputs": [],
   "source": [
    "import requests\n",
    "import json"
   ]
  },
  {
   "cell_type": "code",
   "execution_count": 56,
   "id": "cb300853",
   "metadata": {},
   "outputs": [],
   "source": [
    "data = requests.get(\"https://fruityvice.com/api/fruit/all\")\n",
    "results = json.loads(data.text)"
   ]
  },
  {
   "cell_type": "code",
   "execution_count": 57,
   "id": "6c4a8a64",
   "metadata": {},
   "outputs": [
    {
     "data": {
      "text/html": [
       "<div>\n",
       "<style scoped>\n",
       "    .dataframe tbody tr th:only-of-type {\n",
       "        vertical-align: middle;\n",
       "    }\n",
       "\n",
       "    .dataframe tbody tr th {\n",
       "        vertical-align: top;\n",
       "    }\n",
       "\n",
       "    .dataframe thead th {\n",
       "        text-align: right;\n",
       "    }\n",
       "</style>\n",
       "<table border=\"1\" class=\"dataframe\">\n",
       "  <thead>\n",
       "    <tr style=\"text-align: right;\">\n",
       "      <th></th>\n",
       "      <th>name</th>\n",
       "      <th>id</th>\n",
       "      <th>family</th>\n",
       "      <th>order</th>\n",
       "      <th>genus</th>\n",
       "      <th>nutritions</th>\n",
       "    </tr>\n",
       "  </thead>\n",
       "  <tbody>\n",
       "    <tr>\n",
       "      <th>0</th>\n",
       "      <td>Persimmon</td>\n",
       "      <td>52</td>\n",
       "      <td>Ebenaceae</td>\n",
       "      <td>Rosales</td>\n",
       "      <td>Diospyros</td>\n",
       "      <td>{'calories': 81, 'fat': 0.0, 'sugar': 18.0, 'c...</td>\n",
       "    </tr>\n",
       "    <tr>\n",
       "      <th>1</th>\n",
       "      <td>Strawberry</td>\n",
       "      <td>3</td>\n",
       "      <td>Rosaceae</td>\n",
       "      <td>Rosales</td>\n",
       "      <td>Fragaria</td>\n",
       "      <td>{'calories': 29, 'fat': 0.4, 'sugar': 5.4, 'ca...</td>\n",
       "    </tr>\n",
       "    <tr>\n",
       "      <th>2</th>\n",
       "      <td>Banana</td>\n",
       "      <td>1</td>\n",
       "      <td>Musaceae</td>\n",
       "      <td>Zingiberales</td>\n",
       "      <td>Musa</td>\n",
       "      <td>{'calories': 96, 'fat': 0.2, 'sugar': 17.2, 'c...</td>\n",
       "    </tr>\n",
       "    <tr>\n",
       "      <th>3</th>\n",
       "      <td>Tomato</td>\n",
       "      <td>5</td>\n",
       "      <td>Solanaceae</td>\n",
       "      <td>Solanales</td>\n",
       "      <td>Solanum</td>\n",
       "      <td>{'calories': 74, 'fat': 0.2, 'sugar': 2.6, 'ca...</td>\n",
       "    </tr>\n",
       "    <tr>\n",
       "      <th>4</th>\n",
       "      <td>Pear</td>\n",
       "      <td>4</td>\n",
       "      <td>Rosaceae</td>\n",
       "      <td>Rosales</td>\n",
       "      <td>Pyrus</td>\n",
       "      <td>{'calories': 57, 'fat': 0.1, 'sugar': 10.0, 'c...</td>\n",
       "    </tr>\n",
       "    <tr>\n",
       "      <th>5</th>\n",
       "      <td>Durian</td>\n",
       "      <td>60</td>\n",
       "      <td>Malvaceae</td>\n",
       "      <td>Malvales</td>\n",
       "      <td>Durio</td>\n",
       "      <td>{'calories': 147, 'fat': 5.3, 'sugar': 6.75, '...</td>\n",
       "    </tr>\n",
       "    <tr>\n",
       "      <th>6</th>\n",
       "      <td>Blackberry</td>\n",
       "      <td>64</td>\n",
       "      <td>Rosaceae</td>\n",
       "      <td>Rosales</td>\n",
       "      <td>Rubus</td>\n",
       "      <td>{'calories': 40, 'fat': 0.4, 'sugar': 4.5, 'ca...</td>\n",
       "    </tr>\n",
       "    <tr>\n",
       "      <th>7</th>\n",
       "      <td>Lingonberry</td>\n",
       "      <td>65</td>\n",
       "      <td>Ericaceae</td>\n",
       "      <td>Ericales</td>\n",
       "      <td>Vaccinium</td>\n",
       "      <td>{'calories': 50, 'fat': 0.34, 'sugar': 5.74, '...</td>\n",
       "    </tr>\n",
       "    <tr>\n",
       "      <th>8</th>\n",
       "      <td>Kiwi</td>\n",
       "      <td>66</td>\n",
       "      <td>Actinidiaceae</td>\n",
       "      <td>Struthioniformes</td>\n",
       "      <td>Apteryx</td>\n",
       "      <td>{'calories': 61, 'fat': 0.5, 'sugar': 9.0, 'ca...</td>\n",
       "    </tr>\n",
       "    <tr>\n",
       "      <th>9</th>\n",
       "      <td>Lychee</td>\n",
       "      <td>67</td>\n",
       "      <td>Sapindaceae</td>\n",
       "      <td>Sapindales</td>\n",
       "      <td>Litchi</td>\n",
       "      <td>{'calories': 66, 'fat': 0.44, 'sugar': 15.0, '...</td>\n",
       "    </tr>\n",
       "    <tr>\n",
       "      <th>10</th>\n",
       "      <td>Pineapple</td>\n",
       "      <td>10</td>\n",
       "      <td>Bromeliaceae</td>\n",
       "      <td>Poales</td>\n",
       "      <td>Ananas</td>\n",
       "      <td>{'calories': 50, 'fat': 0.12, 'sugar': 9.85, '...</td>\n",
       "    </tr>\n",
       "    <tr>\n",
       "      <th>11</th>\n",
       "      <td>Fig</td>\n",
       "      <td>68</td>\n",
       "      <td>Moraceae</td>\n",
       "      <td>Rosales</td>\n",
       "      <td>Ficus</td>\n",
       "      <td>{'calories': 74, 'fat': 0.3, 'sugar': 16.0, 'c...</td>\n",
       "    </tr>\n",
       "    <tr>\n",
       "      <th>12</th>\n",
       "      <td>Gooseberry</td>\n",
       "      <td>69</td>\n",
       "      <td>Grossulariaceae</td>\n",
       "      <td>Saxifragales</td>\n",
       "      <td>Ribes</td>\n",
       "      <td>{'calories': 44, 'fat': 0.6, 'sugar': 0.0, 'ca...</td>\n",
       "    </tr>\n",
       "    <tr>\n",
       "      <th>13</th>\n",
       "      <td>Passionfruit</td>\n",
       "      <td>70</td>\n",
       "      <td>Passifloraceae</td>\n",
       "      <td>Malpighiales</td>\n",
       "      <td>Passiflora</td>\n",
       "      <td>{'calories': 97, 'fat': 0.7, 'sugar': 11.2, 'c...</td>\n",
       "    </tr>\n",
       "    <tr>\n",
       "      <th>14</th>\n",
       "      <td>Plum</td>\n",
       "      <td>71</td>\n",
       "      <td>Rosaceae</td>\n",
       "      <td>Rosales</td>\n",
       "      <td>Prunus</td>\n",
       "      <td>{'calories': 46, 'fat': 0.28, 'sugar': 9.92, '...</td>\n",
       "    </tr>\n",
       "    <tr>\n",
       "      <th>15</th>\n",
       "      <td>Orange</td>\n",
       "      <td>2</td>\n",
       "      <td>Rutaceae</td>\n",
       "      <td>Sapindales</td>\n",
       "      <td>Citrus</td>\n",
       "      <td>{'calories': 43, 'fat': 0.2, 'sugar': 8.2, 'ca...</td>\n",
       "    </tr>\n",
       "    <tr>\n",
       "      <th>16</th>\n",
       "      <td>GreenApple</td>\n",
       "      <td>72</td>\n",
       "      <td>Rosaceae</td>\n",
       "      <td>Rosales</td>\n",
       "      <td>Malus</td>\n",
       "      <td>{'calories': 21, 'fat': 0.1, 'sugar': 6.4, 'ca...</td>\n",
       "    </tr>\n",
       "    <tr>\n",
       "      <th>17</th>\n",
       "      <td>Raspberry</td>\n",
       "      <td>23</td>\n",
       "      <td>Rosaceae</td>\n",
       "      <td>Rosales</td>\n",
       "      <td>Rubus</td>\n",
       "      <td>{'calories': 53, 'fat': 0.7, 'sugar': 4.4, 'ca...</td>\n",
       "    </tr>\n",
       "    <tr>\n",
       "      <th>18</th>\n",
       "      <td>Watermelon</td>\n",
       "      <td>25</td>\n",
       "      <td>Cucurbitaceae</td>\n",
       "      <td>Cucurbitales</td>\n",
       "      <td>Citrullus</td>\n",
       "      <td>{'calories': 30, 'fat': 0.2, 'sugar': 6.0, 'ca...</td>\n",
       "    </tr>\n",
       "    <tr>\n",
       "      <th>19</th>\n",
       "      <td>Lemon</td>\n",
       "      <td>26</td>\n",
       "      <td>Rutaceae</td>\n",
       "      <td>Sapindales</td>\n",
       "      <td>Citrus</td>\n",
       "      <td>{'calories': 29, 'fat': 0.3, 'sugar': 2.5, 'ca...</td>\n",
       "    </tr>\n",
       "    <tr>\n",
       "      <th>20</th>\n",
       "      <td>Mango</td>\n",
       "      <td>27</td>\n",
       "      <td>Anacardiaceae</td>\n",
       "      <td>Sapindales</td>\n",
       "      <td>Mangifera</td>\n",
       "      <td>{'calories': 60, 'fat': 0.38, 'sugar': 13.7, '...</td>\n",
       "    </tr>\n",
       "    <tr>\n",
       "      <th>21</th>\n",
       "      <td>Blueberry</td>\n",
       "      <td>33</td>\n",
       "      <td>Rosaceae</td>\n",
       "      <td>Rosales</td>\n",
       "      <td>Fragaria</td>\n",
       "      <td>{'calories': 29, 'fat': 0.4, 'sugar': 5.4, 'ca...</td>\n",
       "    </tr>\n",
       "    <tr>\n",
       "      <th>22</th>\n",
       "      <td>Apple</td>\n",
       "      <td>6</td>\n",
       "      <td>Rosaceae</td>\n",
       "      <td>Rosales</td>\n",
       "      <td>Malus</td>\n",
       "      <td>{'calories': 52, 'fat': 0.4, 'sugar': 10.3, 'c...</td>\n",
       "    </tr>\n",
       "    <tr>\n",
       "      <th>23</th>\n",
       "      <td>Guava</td>\n",
       "      <td>37</td>\n",
       "      <td>Myrtaceae</td>\n",
       "      <td>Myrtales</td>\n",
       "      <td>Psidium</td>\n",
       "      <td>{'calories': 68, 'fat': 1.0, 'sugar': 9.0, 'ca...</td>\n",
       "    </tr>\n",
       "    <tr>\n",
       "      <th>24</th>\n",
       "      <td>Apricot</td>\n",
       "      <td>35</td>\n",
       "      <td>Rosaceae</td>\n",
       "      <td>Rosales</td>\n",
       "      <td>Prunus</td>\n",
       "      <td>{'calories': 15, 'fat': 0.1, 'sugar': 3.2, 'ca...</td>\n",
       "    </tr>\n",
       "    <tr>\n",
       "      <th>25</th>\n",
       "      <td>Papaya</td>\n",
       "      <td>42</td>\n",
       "      <td>Caricaceae</td>\n",
       "      <td>Caricacea</td>\n",
       "      <td>Carica</td>\n",
       "      <td>{'calories': 43, 'fat': 0.4, 'sugar': 1.0, 'ca...</td>\n",
       "    </tr>\n",
       "    <tr>\n",
       "      <th>26</th>\n",
       "      <td>Melon</td>\n",
       "      <td>41</td>\n",
       "      <td>Cucurbitaceae</td>\n",
       "      <td>Cucurbitaceae</td>\n",
       "      <td>Cucumis</td>\n",
       "      <td>{'calories': 34, 'fat': 0.0, 'sugar': 8.0, 'ca...</td>\n",
       "    </tr>\n",
       "    <tr>\n",
       "      <th>27</th>\n",
       "      <td>Tangerine</td>\n",
       "      <td>77</td>\n",
       "      <td>Rutaceae</td>\n",
       "      <td>Sapindales</td>\n",
       "      <td>Citrus</td>\n",
       "      <td>{'calories': 45, 'fat': 0.4, 'sugar': 9.1, 'ca...</td>\n",
       "    </tr>\n",
       "    <tr>\n",
       "      <th>28</th>\n",
       "      <td>Pitahaya</td>\n",
       "      <td>78</td>\n",
       "      <td>Cactaceae</td>\n",
       "      <td>Caryophyllales</td>\n",
       "      <td>Cactaceae</td>\n",
       "      <td>{'calories': 36, 'fat': 0.4, 'sugar': 3.0, 'ca...</td>\n",
       "    </tr>\n",
       "    <tr>\n",
       "      <th>29</th>\n",
       "      <td>Lime</td>\n",
       "      <td>44</td>\n",
       "      <td>Rutaceae</td>\n",
       "      <td>Sapindales</td>\n",
       "      <td>Citrus</td>\n",
       "      <td>{'calories': 25, 'fat': 0.1, 'sugar': 1.7, 'ca...</td>\n",
       "    </tr>\n",
       "    <tr>\n",
       "      <th>30</th>\n",
       "      <td>Pomegranate</td>\n",
       "      <td>79</td>\n",
       "      <td>Lythraceae</td>\n",
       "      <td>Myrtales</td>\n",
       "      <td>Punica</td>\n",
       "      <td>{'calories': 83, 'fat': 1.2, 'sugar': 13.7, 'c...</td>\n",
       "    </tr>\n",
       "    <tr>\n",
       "      <th>31</th>\n",
       "      <td>Dragonfruit</td>\n",
       "      <td>80</td>\n",
       "      <td>Cactaceae</td>\n",
       "      <td>Caryophyllales</td>\n",
       "      <td>Selenicereus</td>\n",
       "      <td>{'calories': 60, 'fat': 1.5, 'sugar': 8.0, 'ca...</td>\n",
       "    </tr>\n",
       "    <tr>\n",
       "      <th>32</th>\n",
       "      <td>Grape</td>\n",
       "      <td>81</td>\n",
       "      <td>Vitaceae</td>\n",
       "      <td>Vitales</td>\n",
       "      <td>Vitis</td>\n",
       "      <td>{'calories': 69, 'fat': 0.16, 'sugar': 16.0, '...</td>\n",
       "    </tr>\n",
       "    <tr>\n",
       "      <th>33</th>\n",
       "      <td>Morus</td>\n",
       "      <td>82</td>\n",
       "      <td>Moraceae</td>\n",
       "      <td>Rosales</td>\n",
       "      <td>Morus</td>\n",
       "      <td>{'calories': 43, 'fat': 0.39, 'sugar': 8.1, 'c...</td>\n",
       "    </tr>\n",
       "    <tr>\n",
       "      <th>34</th>\n",
       "      <td>Feijoa</td>\n",
       "      <td>76</td>\n",
       "      <td>Myrtaceae</td>\n",
       "      <td>Myrtoideae</td>\n",
       "      <td>Sellowiana</td>\n",
       "      <td>{'calories': 44, 'fat': 0.4, 'sugar': 3.0, 'ca...</td>\n",
       "    </tr>\n",
       "    <tr>\n",
       "      <th>35</th>\n",
       "      <td>Avocado</td>\n",
       "      <td>84</td>\n",
       "      <td>Lauraceae</td>\n",
       "      <td>Laurales</td>\n",
       "      <td>Persea</td>\n",
       "      <td>{'calories': 160, 'fat': 14.66, 'sugar': 0.66,...</td>\n",
       "    </tr>\n",
       "    <tr>\n",
       "      <th>36</th>\n",
       "      <td>Kiwifruit</td>\n",
       "      <td>85</td>\n",
       "      <td>Actinidiaceae</td>\n",
       "      <td>Ericales</td>\n",
       "      <td>Actinidia</td>\n",
       "      <td>{'calories': 61, 'fat': 0.5, 'sugar': 8.9, 'ca...</td>\n",
       "    </tr>\n",
       "    <tr>\n",
       "      <th>37</th>\n",
       "      <td>Cranberry</td>\n",
       "      <td>87</td>\n",
       "      <td>Ericaceae</td>\n",
       "      <td>Ericales</td>\n",
       "      <td>Vaccinium</td>\n",
       "      <td>{'calories': 46, 'fat': 0.1, 'sugar': 4.0, 'ca...</td>\n",
       "    </tr>\n",
       "    <tr>\n",
       "      <th>38</th>\n",
       "      <td>Cherry</td>\n",
       "      <td>9</td>\n",
       "      <td>Rosaceae</td>\n",
       "      <td>Rosales</td>\n",
       "      <td>Prunus</td>\n",
       "      <td>{'calories': 50, 'fat': 0.3, 'sugar': 8.0, 'ca...</td>\n",
       "    </tr>\n",
       "    <tr>\n",
       "      <th>39</th>\n",
       "      <td>Peach</td>\n",
       "      <td>86</td>\n",
       "      <td>Rosaceae</td>\n",
       "      <td>Rosales</td>\n",
       "      <td>Prunus</td>\n",
       "      <td>{'calories': 39, 'fat': 0.25, 'sugar': 8.4, 'c...</td>\n",
       "    </tr>\n",
       "    <tr>\n",
       "      <th>40</th>\n",
       "      <td>Jackfruit</td>\n",
       "      <td>94</td>\n",
       "      <td>Moraceae</td>\n",
       "      <td>Rosales</td>\n",
       "      <td>Artocarpus</td>\n",
       "      <td>{'calories': 95, 'fat': 0.0, 'sugar': 19.1, 'c...</td>\n",
       "    </tr>\n",
       "    <tr>\n",
       "      <th>41</th>\n",
       "      <td>Horned Melon</td>\n",
       "      <td>95</td>\n",
       "      <td>Cucurbitaceae</td>\n",
       "      <td>Cucurbitales</td>\n",
       "      <td>Cucumis</td>\n",
       "      <td>{'calories': 44, 'fat': 1.26, 'sugar': 0.5, 'c...</td>\n",
       "    </tr>\n",
       "  </tbody>\n",
       "</table>\n",
       "</div>"
      ],
      "text/plain": [
       "            name  id           family             order         genus  \\\n",
       "0      Persimmon  52        Ebenaceae           Rosales     Diospyros   \n",
       "1     Strawberry   3         Rosaceae           Rosales      Fragaria   \n",
       "2         Banana   1         Musaceae      Zingiberales          Musa   \n",
       "3         Tomato   5       Solanaceae         Solanales       Solanum   \n",
       "4           Pear   4         Rosaceae           Rosales         Pyrus   \n",
       "5         Durian  60        Malvaceae          Malvales         Durio   \n",
       "6     Blackberry  64         Rosaceae           Rosales         Rubus   \n",
       "7    Lingonberry  65        Ericaceae          Ericales     Vaccinium   \n",
       "8           Kiwi  66    Actinidiaceae  Struthioniformes       Apteryx   \n",
       "9         Lychee  67      Sapindaceae        Sapindales        Litchi   \n",
       "10     Pineapple  10     Bromeliaceae            Poales        Ananas   \n",
       "11           Fig  68         Moraceae           Rosales         Ficus   \n",
       "12    Gooseberry  69  Grossulariaceae      Saxifragales         Ribes   \n",
       "13  Passionfruit  70   Passifloraceae      Malpighiales    Passiflora   \n",
       "14          Plum  71         Rosaceae           Rosales        Prunus   \n",
       "15        Orange   2         Rutaceae        Sapindales        Citrus   \n",
       "16    GreenApple  72         Rosaceae           Rosales         Malus   \n",
       "17     Raspberry  23         Rosaceae           Rosales         Rubus   \n",
       "18    Watermelon  25    Cucurbitaceae      Cucurbitales     Citrullus   \n",
       "19         Lemon  26         Rutaceae        Sapindales        Citrus   \n",
       "20         Mango  27    Anacardiaceae        Sapindales     Mangifera   \n",
       "21     Blueberry  33         Rosaceae           Rosales      Fragaria   \n",
       "22         Apple   6         Rosaceae           Rosales         Malus   \n",
       "23         Guava  37        Myrtaceae          Myrtales       Psidium   \n",
       "24       Apricot  35         Rosaceae           Rosales        Prunus   \n",
       "25        Papaya  42       Caricaceae         Caricacea        Carica   \n",
       "26         Melon  41    Cucurbitaceae     Cucurbitaceae       Cucumis   \n",
       "27     Tangerine  77         Rutaceae        Sapindales        Citrus   \n",
       "28      Pitahaya  78        Cactaceae    Caryophyllales     Cactaceae   \n",
       "29          Lime  44         Rutaceae        Sapindales        Citrus   \n",
       "30   Pomegranate  79       Lythraceae          Myrtales        Punica   \n",
       "31   Dragonfruit  80        Cactaceae    Caryophyllales  Selenicereus   \n",
       "32         Grape  81         Vitaceae           Vitales         Vitis   \n",
       "33         Morus  82         Moraceae           Rosales         Morus   \n",
       "34        Feijoa  76        Myrtaceae        Myrtoideae    Sellowiana   \n",
       "35       Avocado  84        Lauraceae          Laurales        Persea   \n",
       "36     Kiwifruit  85    Actinidiaceae          Ericales     Actinidia   \n",
       "37     Cranberry  87        Ericaceae          Ericales     Vaccinium   \n",
       "38        Cherry   9         Rosaceae           Rosales        Prunus   \n",
       "39         Peach  86         Rosaceae           Rosales        Prunus   \n",
       "40     Jackfruit  94         Moraceae           Rosales    Artocarpus   \n",
       "41  Horned Melon  95    Cucurbitaceae      Cucurbitales       Cucumis   \n",
       "\n",
       "                                           nutritions  \n",
       "0   {'calories': 81, 'fat': 0.0, 'sugar': 18.0, 'c...  \n",
       "1   {'calories': 29, 'fat': 0.4, 'sugar': 5.4, 'ca...  \n",
       "2   {'calories': 96, 'fat': 0.2, 'sugar': 17.2, 'c...  \n",
       "3   {'calories': 74, 'fat': 0.2, 'sugar': 2.6, 'ca...  \n",
       "4   {'calories': 57, 'fat': 0.1, 'sugar': 10.0, 'c...  \n",
       "5   {'calories': 147, 'fat': 5.3, 'sugar': 6.75, '...  \n",
       "6   {'calories': 40, 'fat': 0.4, 'sugar': 4.5, 'ca...  \n",
       "7   {'calories': 50, 'fat': 0.34, 'sugar': 5.74, '...  \n",
       "8   {'calories': 61, 'fat': 0.5, 'sugar': 9.0, 'ca...  \n",
       "9   {'calories': 66, 'fat': 0.44, 'sugar': 15.0, '...  \n",
       "10  {'calories': 50, 'fat': 0.12, 'sugar': 9.85, '...  \n",
       "11  {'calories': 74, 'fat': 0.3, 'sugar': 16.0, 'c...  \n",
       "12  {'calories': 44, 'fat': 0.6, 'sugar': 0.0, 'ca...  \n",
       "13  {'calories': 97, 'fat': 0.7, 'sugar': 11.2, 'c...  \n",
       "14  {'calories': 46, 'fat': 0.28, 'sugar': 9.92, '...  \n",
       "15  {'calories': 43, 'fat': 0.2, 'sugar': 8.2, 'ca...  \n",
       "16  {'calories': 21, 'fat': 0.1, 'sugar': 6.4, 'ca...  \n",
       "17  {'calories': 53, 'fat': 0.7, 'sugar': 4.4, 'ca...  \n",
       "18  {'calories': 30, 'fat': 0.2, 'sugar': 6.0, 'ca...  \n",
       "19  {'calories': 29, 'fat': 0.3, 'sugar': 2.5, 'ca...  \n",
       "20  {'calories': 60, 'fat': 0.38, 'sugar': 13.7, '...  \n",
       "21  {'calories': 29, 'fat': 0.4, 'sugar': 5.4, 'ca...  \n",
       "22  {'calories': 52, 'fat': 0.4, 'sugar': 10.3, 'c...  \n",
       "23  {'calories': 68, 'fat': 1.0, 'sugar': 9.0, 'ca...  \n",
       "24  {'calories': 15, 'fat': 0.1, 'sugar': 3.2, 'ca...  \n",
       "25  {'calories': 43, 'fat': 0.4, 'sugar': 1.0, 'ca...  \n",
       "26  {'calories': 34, 'fat': 0.0, 'sugar': 8.0, 'ca...  \n",
       "27  {'calories': 45, 'fat': 0.4, 'sugar': 9.1, 'ca...  \n",
       "28  {'calories': 36, 'fat': 0.4, 'sugar': 3.0, 'ca...  \n",
       "29  {'calories': 25, 'fat': 0.1, 'sugar': 1.7, 'ca...  \n",
       "30  {'calories': 83, 'fat': 1.2, 'sugar': 13.7, 'c...  \n",
       "31  {'calories': 60, 'fat': 1.5, 'sugar': 8.0, 'ca...  \n",
       "32  {'calories': 69, 'fat': 0.16, 'sugar': 16.0, '...  \n",
       "33  {'calories': 43, 'fat': 0.39, 'sugar': 8.1, 'c...  \n",
       "34  {'calories': 44, 'fat': 0.4, 'sugar': 3.0, 'ca...  \n",
       "35  {'calories': 160, 'fat': 14.66, 'sugar': 0.66,...  \n",
       "36  {'calories': 61, 'fat': 0.5, 'sugar': 8.9, 'ca...  \n",
       "37  {'calories': 46, 'fat': 0.1, 'sugar': 4.0, 'ca...  \n",
       "38  {'calories': 50, 'fat': 0.3, 'sugar': 8.0, 'ca...  \n",
       "39  {'calories': 39, 'fat': 0.25, 'sugar': 8.4, 'c...  \n",
       "40  {'calories': 95, 'fat': 0.0, 'sugar': 19.1, 'c...  \n",
       "41  {'calories': 44, 'fat': 1.26, 'sugar': 0.5, 'c...  "
      ]
     },
     "execution_count": 57,
     "metadata": {},
     "output_type": "execute_result"
    }
   ],
   "source": [
    "pd.DataFrame(results)"
   ]
  },
  {
   "cell_type": "code",
   "execution_count": 60,
   "id": "f9442815",
   "metadata": {},
   "outputs": [
    {
     "data": {
      "text/html": [
       "<div>\n",
       "<style scoped>\n",
       "    .dataframe tbody tr th:only-of-type {\n",
       "        vertical-align: middle;\n",
       "    }\n",
       "\n",
       "    .dataframe tbody tr th {\n",
       "        vertical-align: top;\n",
       "    }\n",
       "\n",
       "    .dataframe thead th {\n",
       "        text-align: right;\n",
       "    }\n",
       "</style>\n",
       "<table border=\"1\" class=\"dataframe\">\n",
       "  <thead>\n",
       "    <tr style=\"text-align: right;\">\n",
       "      <th></th>\n",
       "      <th>name</th>\n",
       "      <th>id</th>\n",
       "      <th>family</th>\n",
       "      <th>order</th>\n",
       "      <th>genus</th>\n",
       "      <th>nutritions.calories</th>\n",
       "      <th>nutritions.fat</th>\n",
       "      <th>nutritions.sugar</th>\n",
       "      <th>nutritions.carbohydrates</th>\n",
       "      <th>nutritions.protein</th>\n",
       "    </tr>\n",
       "  </thead>\n",
       "  <tbody>\n",
       "    <tr>\n",
       "      <th>0</th>\n",
       "      <td>Persimmon</td>\n",
       "      <td>52</td>\n",
       "      <td>Ebenaceae</td>\n",
       "      <td>Rosales</td>\n",
       "      <td>Diospyros</td>\n",
       "      <td>81</td>\n",
       "      <td>0.00</td>\n",
       "      <td>18.00</td>\n",
       "      <td>18.00</td>\n",
       "      <td>0.00</td>\n",
       "    </tr>\n",
       "    <tr>\n",
       "      <th>1</th>\n",
       "      <td>Strawberry</td>\n",
       "      <td>3</td>\n",
       "      <td>Rosaceae</td>\n",
       "      <td>Rosales</td>\n",
       "      <td>Fragaria</td>\n",
       "      <td>29</td>\n",
       "      <td>0.40</td>\n",
       "      <td>5.40</td>\n",
       "      <td>5.50</td>\n",
       "      <td>0.80</td>\n",
       "    </tr>\n",
       "    <tr>\n",
       "      <th>2</th>\n",
       "      <td>Banana</td>\n",
       "      <td>1</td>\n",
       "      <td>Musaceae</td>\n",
       "      <td>Zingiberales</td>\n",
       "      <td>Musa</td>\n",
       "      <td>96</td>\n",
       "      <td>0.20</td>\n",
       "      <td>17.20</td>\n",
       "      <td>22.00</td>\n",
       "      <td>1.00</td>\n",
       "    </tr>\n",
       "    <tr>\n",
       "      <th>3</th>\n",
       "      <td>Tomato</td>\n",
       "      <td>5</td>\n",
       "      <td>Solanaceae</td>\n",
       "      <td>Solanales</td>\n",
       "      <td>Solanum</td>\n",
       "      <td>74</td>\n",
       "      <td>0.20</td>\n",
       "      <td>2.60</td>\n",
       "      <td>3.90</td>\n",
       "      <td>0.90</td>\n",
       "    </tr>\n",
       "    <tr>\n",
       "      <th>4</th>\n",
       "      <td>Pear</td>\n",
       "      <td>4</td>\n",
       "      <td>Rosaceae</td>\n",
       "      <td>Rosales</td>\n",
       "      <td>Pyrus</td>\n",
       "      <td>57</td>\n",
       "      <td>0.10</td>\n",
       "      <td>10.00</td>\n",
       "      <td>15.00</td>\n",
       "      <td>0.40</td>\n",
       "    </tr>\n",
       "    <tr>\n",
       "      <th>5</th>\n",
       "      <td>Durian</td>\n",
       "      <td>60</td>\n",
       "      <td>Malvaceae</td>\n",
       "      <td>Malvales</td>\n",
       "      <td>Durio</td>\n",
       "      <td>147</td>\n",
       "      <td>5.30</td>\n",
       "      <td>6.75</td>\n",
       "      <td>27.10</td>\n",
       "      <td>1.50</td>\n",
       "    </tr>\n",
       "    <tr>\n",
       "      <th>6</th>\n",
       "      <td>Blackberry</td>\n",
       "      <td>64</td>\n",
       "      <td>Rosaceae</td>\n",
       "      <td>Rosales</td>\n",
       "      <td>Rubus</td>\n",
       "      <td>40</td>\n",
       "      <td>0.40</td>\n",
       "      <td>4.50</td>\n",
       "      <td>9.00</td>\n",
       "      <td>1.30</td>\n",
       "    </tr>\n",
       "    <tr>\n",
       "      <th>7</th>\n",
       "      <td>Lingonberry</td>\n",
       "      <td>65</td>\n",
       "      <td>Ericaceae</td>\n",
       "      <td>Ericales</td>\n",
       "      <td>Vaccinium</td>\n",
       "      <td>50</td>\n",
       "      <td>0.34</td>\n",
       "      <td>5.74</td>\n",
       "      <td>11.30</td>\n",
       "      <td>0.75</td>\n",
       "    </tr>\n",
       "    <tr>\n",
       "      <th>8</th>\n",
       "      <td>Kiwi</td>\n",
       "      <td>66</td>\n",
       "      <td>Actinidiaceae</td>\n",
       "      <td>Struthioniformes</td>\n",
       "      <td>Apteryx</td>\n",
       "      <td>61</td>\n",
       "      <td>0.50</td>\n",
       "      <td>9.00</td>\n",
       "      <td>15.00</td>\n",
       "      <td>1.10</td>\n",
       "    </tr>\n",
       "    <tr>\n",
       "      <th>9</th>\n",
       "      <td>Lychee</td>\n",
       "      <td>67</td>\n",
       "      <td>Sapindaceae</td>\n",
       "      <td>Sapindales</td>\n",
       "      <td>Litchi</td>\n",
       "      <td>66</td>\n",
       "      <td>0.44</td>\n",
       "      <td>15.00</td>\n",
       "      <td>17.00</td>\n",
       "      <td>0.80</td>\n",
       "    </tr>\n",
       "    <tr>\n",
       "      <th>10</th>\n",
       "      <td>Pineapple</td>\n",
       "      <td>10</td>\n",
       "      <td>Bromeliaceae</td>\n",
       "      <td>Poales</td>\n",
       "      <td>Ananas</td>\n",
       "      <td>50</td>\n",
       "      <td>0.12</td>\n",
       "      <td>9.85</td>\n",
       "      <td>13.12</td>\n",
       "      <td>0.54</td>\n",
       "    </tr>\n",
       "    <tr>\n",
       "      <th>11</th>\n",
       "      <td>Fig</td>\n",
       "      <td>68</td>\n",
       "      <td>Moraceae</td>\n",
       "      <td>Rosales</td>\n",
       "      <td>Ficus</td>\n",
       "      <td>74</td>\n",
       "      <td>0.30</td>\n",
       "      <td>16.00</td>\n",
       "      <td>19.00</td>\n",
       "      <td>0.80</td>\n",
       "    </tr>\n",
       "    <tr>\n",
       "      <th>12</th>\n",
       "      <td>Gooseberry</td>\n",
       "      <td>69</td>\n",
       "      <td>Grossulariaceae</td>\n",
       "      <td>Saxifragales</td>\n",
       "      <td>Ribes</td>\n",
       "      <td>44</td>\n",
       "      <td>0.60</td>\n",
       "      <td>0.00</td>\n",
       "      <td>10.00</td>\n",
       "      <td>0.90</td>\n",
       "    </tr>\n",
       "    <tr>\n",
       "      <th>13</th>\n",
       "      <td>Passionfruit</td>\n",
       "      <td>70</td>\n",
       "      <td>Passifloraceae</td>\n",
       "      <td>Malpighiales</td>\n",
       "      <td>Passiflora</td>\n",
       "      <td>97</td>\n",
       "      <td>0.70</td>\n",
       "      <td>11.20</td>\n",
       "      <td>22.40</td>\n",
       "      <td>2.20</td>\n",
       "    </tr>\n",
       "    <tr>\n",
       "      <th>14</th>\n",
       "      <td>Plum</td>\n",
       "      <td>71</td>\n",
       "      <td>Rosaceae</td>\n",
       "      <td>Rosales</td>\n",
       "      <td>Prunus</td>\n",
       "      <td>46</td>\n",
       "      <td>0.28</td>\n",
       "      <td>9.92</td>\n",
       "      <td>11.40</td>\n",
       "      <td>0.70</td>\n",
       "    </tr>\n",
       "    <tr>\n",
       "      <th>15</th>\n",
       "      <td>Orange</td>\n",
       "      <td>2</td>\n",
       "      <td>Rutaceae</td>\n",
       "      <td>Sapindales</td>\n",
       "      <td>Citrus</td>\n",
       "      <td>43</td>\n",
       "      <td>0.20</td>\n",
       "      <td>8.20</td>\n",
       "      <td>8.30</td>\n",
       "      <td>1.00</td>\n",
       "    </tr>\n",
       "    <tr>\n",
       "      <th>16</th>\n",
       "      <td>GreenApple</td>\n",
       "      <td>72</td>\n",
       "      <td>Rosaceae</td>\n",
       "      <td>Rosales</td>\n",
       "      <td>Malus</td>\n",
       "      <td>21</td>\n",
       "      <td>0.10</td>\n",
       "      <td>6.40</td>\n",
       "      <td>3.10</td>\n",
       "      <td>0.40</td>\n",
       "    </tr>\n",
       "    <tr>\n",
       "      <th>17</th>\n",
       "      <td>Raspberry</td>\n",
       "      <td>23</td>\n",
       "      <td>Rosaceae</td>\n",
       "      <td>Rosales</td>\n",
       "      <td>Rubus</td>\n",
       "      <td>53</td>\n",
       "      <td>0.70</td>\n",
       "      <td>4.40</td>\n",
       "      <td>12.00</td>\n",
       "      <td>1.20</td>\n",
       "    </tr>\n",
       "    <tr>\n",
       "      <th>18</th>\n",
       "      <td>Watermelon</td>\n",
       "      <td>25</td>\n",
       "      <td>Cucurbitaceae</td>\n",
       "      <td>Cucurbitales</td>\n",
       "      <td>Citrullus</td>\n",
       "      <td>30</td>\n",
       "      <td>0.20</td>\n",
       "      <td>6.00</td>\n",
       "      <td>8.00</td>\n",
       "      <td>0.60</td>\n",
       "    </tr>\n",
       "    <tr>\n",
       "      <th>19</th>\n",
       "      <td>Lemon</td>\n",
       "      <td>26</td>\n",
       "      <td>Rutaceae</td>\n",
       "      <td>Sapindales</td>\n",
       "      <td>Citrus</td>\n",
       "      <td>29</td>\n",
       "      <td>0.30</td>\n",
       "      <td>2.50</td>\n",
       "      <td>9.00</td>\n",
       "      <td>1.10</td>\n",
       "    </tr>\n",
       "    <tr>\n",
       "      <th>20</th>\n",
       "      <td>Mango</td>\n",
       "      <td>27</td>\n",
       "      <td>Anacardiaceae</td>\n",
       "      <td>Sapindales</td>\n",
       "      <td>Mangifera</td>\n",
       "      <td>60</td>\n",
       "      <td>0.38</td>\n",
       "      <td>13.70</td>\n",
       "      <td>15.00</td>\n",
       "      <td>0.82</td>\n",
       "    </tr>\n",
       "    <tr>\n",
       "      <th>21</th>\n",
       "      <td>Blueberry</td>\n",
       "      <td>33</td>\n",
       "      <td>Rosaceae</td>\n",
       "      <td>Rosales</td>\n",
       "      <td>Fragaria</td>\n",
       "      <td>29</td>\n",
       "      <td>0.40</td>\n",
       "      <td>5.40</td>\n",
       "      <td>5.50</td>\n",
       "      <td>0.00</td>\n",
       "    </tr>\n",
       "    <tr>\n",
       "      <th>22</th>\n",
       "      <td>Apple</td>\n",
       "      <td>6</td>\n",
       "      <td>Rosaceae</td>\n",
       "      <td>Rosales</td>\n",
       "      <td>Malus</td>\n",
       "      <td>52</td>\n",
       "      <td>0.40</td>\n",
       "      <td>10.30</td>\n",
       "      <td>11.40</td>\n",
       "      <td>0.30</td>\n",
       "    </tr>\n",
       "    <tr>\n",
       "      <th>23</th>\n",
       "      <td>Guava</td>\n",
       "      <td>37</td>\n",
       "      <td>Myrtaceae</td>\n",
       "      <td>Myrtales</td>\n",
       "      <td>Psidium</td>\n",
       "      <td>68</td>\n",
       "      <td>1.00</td>\n",
       "      <td>9.00</td>\n",
       "      <td>14.00</td>\n",
       "      <td>2.60</td>\n",
       "    </tr>\n",
       "    <tr>\n",
       "      <th>24</th>\n",
       "      <td>Apricot</td>\n",
       "      <td>35</td>\n",
       "      <td>Rosaceae</td>\n",
       "      <td>Rosales</td>\n",
       "      <td>Prunus</td>\n",
       "      <td>15</td>\n",
       "      <td>0.10</td>\n",
       "      <td>3.20</td>\n",
       "      <td>3.90</td>\n",
       "      <td>0.50</td>\n",
       "    </tr>\n",
       "    <tr>\n",
       "      <th>25</th>\n",
       "      <td>Papaya</td>\n",
       "      <td>42</td>\n",
       "      <td>Caricaceae</td>\n",
       "      <td>Caricacea</td>\n",
       "      <td>Carica</td>\n",
       "      <td>43</td>\n",
       "      <td>0.40</td>\n",
       "      <td>1.00</td>\n",
       "      <td>11.00</td>\n",
       "      <td>0.00</td>\n",
       "    </tr>\n",
       "    <tr>\n",
       "      <th>26</th>\n",
       "      <td>Melon</td>\n",
       "      <td>41</td>\n",
       "      <td>Cucurbitaceae</td>\n",
       "      <td>Cucurbitaceae</td>\n",
       "      <td>Cucumis</td>\n",
       "      <td>34</td>\n",
       "      <td>0.00</td>\n",
       "      <td>8.00</td>\n",
       "      <td>8.00</td>\n",
       "      <td>0.00</td>\n",
       "    </tr>\n",
       "    <tr>\n",
       "      <th>27</th>\n",
       "      <td>Tangerine</td>\n",
       "      <td>77</td>\n",
       "      <td>Rutaceae</td>\n",
       "      <td>Sapindales</td>\n",
       "      <td>Citrus</td>\n",
       "      <td>45</td>\n",
       "      <td>0.40</td>\n",
       "      <td>9.10</td>\n",
       "      <td>8.30</td>\n",
       "      <td>0.00</td>\n",
       "    </tr>\n",
       "    <tr>\n",
       "      <th>28</th>\n",
       "      <td>Pitahaya</td>\n",
       "      <td>78</td>\n",
       "      <td>Cactaceae</td>\n",
       "      <td>Caryophyllales</td>\n",
       "      <td>Cactaceae</td>\n",
       "      <td>36</td>\n",
       "      <td>0.40</td>\n",
       "      <td>3.00</td>\n",
       "      <td>7.00</td>\n",
       "      <td>1.00</td>\n",
       "    </tr>\n",
       "    <tr>\n",
       "      <th>29</th>\n",
       "      <td>Lime</td>\n",
       "      <td>44</td>\n",
       "      <td>Rutaceae</td>\n",
       "      <td>Sapindales</td>\n",
       "      <td>Citrus</td>\n",
       "      <td>25</td>\n",
       "      <td>0.10</td>\n",
       "      <td>1.70</td>\n",
       "      <td>8.40</td>\n",
       "      <td>0.30</td>\n",
       "    </tr>\n",
       "    <tr>\n",
       "      <th>30</th>\n",
       "      <td>Pomegranate</td>\n",
       "      <td>79</td>\n",
       "      <td>Lythraceae</td>\n",
       "      <td>Myrtales</td>\n",
       "      <td>Punica</td>\n",
       "      <td>83</td>\n",
       "      <td>1.20</td>\n",
       "      <td>13.70</td>\n",
       "      <td>18.70</td>\n",
       "      <td>1.70</td>\n",
       "    </tr>\n",
       "    <tr>\n",
       "      <th>31</th>\n",
       "      <td>Dragonfruit</td>\n",
       "      <td>80</td>\n",
       "      <td>Cactaceae</td>\n",
       "      <td>Caryophyllales</td>\n",
       "      <td>Selenicereus</td>\n",
       "      <td>60</td>\n",
       "      <td>1.50</td>\n",
       "      <td>8.00</td>\n",
       "      <td>9.00</td>\n",
       "      <td>9.00</td>\n",
       "    </tr>\n",
       "    <tr>\n",
       "      <th>32</th>\n",
       "      <td>Grape</td>\n",
       "      <td>81</td>\n",
       "      <td>Vitaceae</td>\n",
       "      <td>Vitales</td>\n",
       "      <td>Vitis</td>\n",
       "      <td>69</td>\n",
       "      <td>0.16</td>\n",
       "      <td>16.00</td>\n",
       "      <td>18.10</td>\n",
       "      <td>0.72</td>\n",
       "    </tr>\n",
       "    <tr>\n",
       "      <th>33</th>\n",
       "      <td>Morus</td>\n",
       "      <td>82</td>\n",
       "      <td>Moraceae</td>\n",
       "      <td>Rosales</td>\n",
       "      <td>Morus</td>\n",
       "      <td>43</td>\n",
       "      <td>0.39</td>\n",
       "      <td>8.10</td>\n",
       "      <td>9.80</td>\n",
       "      <td>1.44</td>\n",
       "    </tr>\n",
       "    <tr>\n",
       "      <th>34</th>\n",
       "      <td>Feijoa</td>\n",
       "      <td>76</td>\n",
       "      <td>Myrtaceae</td>\n",
       "      <td>Myrtoideae</td>\n",
       "      <td>Sellowiana</td>\n",
       "      <td>44</td>\n",
       "      <td>0.40</td>\n",
       "      <td>3.00</td>\n",
       "      <td>8.00</td>\n",
       "      <td>0.60</td>\n",
       "    </tr>\n",
       "    <tr>\n",
       "      <th>35</th>\n",
       "      <td>Avocado</td>\n",
       "      <td>84</td>\n",
       "      <td>Lauraceae</td>\n",
       "      <td>Laurales</td>\n",
       "      <td>Persea</td>\n",
       "      <td>160</td>\n",
       "      <td>14.66</td>\n",
       "      <td>0.66</td>\n",
       "      <td>8.53</td>\n",
       "      <td>2.00</td>\n",
       "    </tr>\n",
       "    <tr>\n",
       "      <th>36</th>\n",
       "      <td>Kiwifruit</td>\n",
       "      <td>85</td>\n",
       "      <td>Actinidiaceae</td>\n",
       "      <td>Ericales</td>\n",
       "      <td>Actinidia</td>\n",
       "      <td>61</td>\n",
       "      <td>0.50</td>\n",
       "      <td>8.90</td>\n",
       "      <td>14.60</td>\n",
       "      <td>1.14</td>\n",
       "    </tr>\n",
       "    <tr>\n",
       "      <th>37</th>\n",
       "      <td>Cranberry</td>\n",
       "      <td>87</td>\n",
       "      <td>Ericaceae</td>\n",
       "      <td>Ericales</td>\n",
       "      <td>Vaccinium</td>\n",
       "      <td>46</td>\n",
       "      <td>0.10</td>\n",
       "      <td>4.00</td>\n",
       "      <td>12.20</td>\n",
       "      <td>0.40</td>\n",
       "    </tr>\n",
       "    <tr>\n",
       "      <th>38</th>\n",
       "      <td>Cherry</td>\n",
       "      <td>9</td>\n",
       "      <td>Rosaceae</td>\n",
       "      <td>Rosales</td>\n",
       "      <td>Prunus</td>\n",
       "      <td>50</td>\n",
       "      <td>0.30</td>\n",
       "      <td>8.00</td>\n",
       "      <td>12.00</td>\n",
       "      <td>1.00</td>\n",
       "    </tr>\n",
       "    <tr>\n",
       "      <th>39</th>\n",
       "      <td>Peach</td>\n",
       "      <td>86</td>\n",
       "      <td>Rosaceae</td>\n",
       "      <td>Rosales</td>\n",
       "      <td>Prunus</td>\n",
       "      <td>39</td>\n",
       "      <td>0.25</td>\n",
       "      <td>8.40</td>\n",
       "      <td>9.50</td>\n",
       "      <td>0.90</td>\n",
       "    </tr>\n",
       "    <tr>\n",
       "      <th>40</th>\n",
       "      <td>Jackfruit</td>\n",
       "      <td>94</td>\n",
       "      <td>Moraceae</td>\n",
       "      <td>Rosales</td>\n",
       "      <td>Artocarpus</td>\n",
       "      <td>95</td>\n",
       "      <td>0.00</td>\n",
       "      <td>19.10</td>\n",
       "      <td>23.20</td>\n",
       "      <td>1.72</td>\n",
       "    </tr>\n",
       "    <tr>\n",
       "      <th>41</th>\n",
       "      <td>Horned Melon</td>\n",
       "      <td>95</td>\n",
       "      <td>Cucurbitaceae</td>\n",
       "      <td>Cucurbitales</td>\n",
       "      <td>Cucumis</td>\n",
       "      <td>44</td>\n",
       "      <td>1.26</td>\n",
       "      <td>0.50</td>\n",
       "      <td>7.56</td>\n",
       "      <td>1.78</td>\n",
       "    </tr>\n",
       "  </tbody>\n",
       "</table>\n",
       "</div>"
      ],
      "text/plain": [
       "            name  id           family             order         genus  \\\n",
       "0      Persimmon  52        Ebenaceae           Rosales     Diospyros   \n",
       "1     Strawberry   3         Rosaceae           Rosales      Fragaria   \n",
       "2         Banana   1         Musaceae      Zingiberales          Musa   \n",
       "3         Tomato   5       Solanaceae         Solanales       Solanum   \n",
       "4           Pear   4         Rosaceae           Rosales         Pyrus   \n",
       "5         Durian  60        Malvaceae          Malvales         Durio   \n",
       "6     Blackberry  64         Rosaceae           Rosales         Rubus   \n",
       "7    Lingonberry  65        Ericaceae          Ericales     Vaccinium   \n",
       "8           Kiwi  66    Actinidiaceae  Struthioniformes       Apteryx   \n",
       "9         Lychee  67      Sapindaceae        Sapindales        Litchi   \n",
       "10     Pineapple  10     Bromeliaceae            Poales        Ananas   \n",
       "11           Fig  68         Moraceae           Rosales         Ficus   \n",
       "12    Gooseberry  69  Grossulariaceae      Saxifragales         Ribes   \n",
       "13  Passionfruit  70   Passifloraceae      Malpighiales    Passiflora   \n",
       "14          Plum  71         Rosaceae           Rosales        Prunus   \n",
       "15        Orange   2         Rutaceae        Sapindales        Citrus   \n",
       "16    GreenApple  72         Rosaceae           Rosales         Malus   \n",
       "17     Raspberry  23         Rosaceae           Rosales         Rubus   \n",
       "18    Watermelon  25    Cucurbitaceae      Cucurbitales     Citrullus   \n",
       "19         Lemon  26         Rutaceae        Sapindales        Citrus   \n",
       "20         Mango  27    Anacardiaceae        Sapindales     Mangifera   \n",
       "21     Blueberry  33         Rosaceae           Rosales      Fragaria   \n",
       "22         Apple   6         Rosaceae           Rosales         Malus   \n",
       "23         Guava  37        Myrtaceae          Myrtales       Psidium   \n",
       "24       Apricot  35         Rosaceae           Rosales        Prunus   \n",
       "25        Papaya  42       Caricaceae         Caricacea        Carica   \n",
       "26         Melon  41    Cucurbitaceae     Cucurbitaceae       Cucumis   \n",
       "27     Tangerine  77         Rutaceae        Sapindales        Citrus   \n",
       "28      Pitahaya  78        Cactaceae    Caryophyllales     Cactaceae   \n",
       "29          Lime  44         Rutaceae        Sapindales        Citrus   \n",
       "30   Pomegranate  79       Lythraceae          Myrtales        Punica   \n",
       "31   Dragonfruit  80        Cactaceae    Caryophyllales  Selenicereus   \n",
       "32         Grape  81         Vitaceae           Vitales         Vitis   \n",
       "33         Morus  82         Moraceae           Rosales         Morus   \n",
       "34        Feijoa  76        Myrtaceae        Myrtoideae    Sellowiana   \n",
       "35       Avocado  84        Lauraceae          Laurales        Persea   \n",
       "36     Kiwifruit  85    Actinidiaceae          Ericales     Actinidia   \n",
       "37     Cranberry  87        Ericaceae          Ericales     Vaccinium   \n",
       "38        Cherry   9         Rosaceae           Rosales        Prunus   \n",
       "39         Peach  86         Rosaceae           Rosales        Prunus   \n",
       "40     Jackfruit  94         Moraceae           Rosales    Artocarpus   \n",
       "41  Horned Melon  95    Cucurbitaceae      Cucurbitales       Cucumis   \n",
       "\n",
       "    nutritions.calories  nutritions.fat  nutritions.sugar  \\\n",
       "0                    81            0.00             18.00   \n",
       "1                    29            0.40              5.40   \n",
       "2                    96            0.20             17.20   \n",
       "3                    74            0.20              2.60   \n",
       "4                    57            0.10             10.00   \n",
       "5                   147            5.30              6.75   \n",
       "6                    40            0.40              4.50   \n",
       "7                    50            0.34              5.74   \n",
       "8                    61            0.50              9.00   \n",
       "9                    66            0.44             15.00   \n",
       "10                   50            0.12              9.85   \n",
       "11                   74            0.30             16.00   \n",
       "12                   44            0.60              0.00   \n",
       "13                   97            0.70             11.20   \n",
       "14                   46            0.28              9.92   \n",
       "15                   43            0.20              8.20   \n",
       "16                   21            0.10              6.40   \n",
       "17                   53            0.70              4.40   \n",
       "18                   30            0.20              6.00   \n",
       "19                   29            0.30              2.50   \n",
       "20                   60            0.38             13.70   \n",
       "21                   29            0.40              5.40   \n",
       "22                   52            0.40             10.30   \n",
       "23                   68            1.00              9.00   \n",
       "24                   15            0.10              3.20   \n",
       "25                   43            0.40              1.00   \n",
       "26                   34            0.00              8.00   \n",
       "27                   45            0.40              9.10   \n",
       "28                   36            0.40              3.00   \n",
       "29                   25            0.10              1.70   \n",
       "30                   83            1.20             13.70   \n",
       "31                   60            1.50              8.00   \n",
       "32                   69            0.16             16.00   \n",
       "33                   43            0.39              8.10   \n",
       "34                   44            0.40              3.00   \n",
       "35                  160           14.66              0.66   \n",
       "36                   61            0.50              8.90   \n",
       "37                   46            0.10              4.00   \n",
       "38                   50            0.30              8.00   \n",
       "39                   39            0.25              8.40   \n",
       "40                   95            0.00             19.10   \n",
       "41                   44            1.26              0.50   \n",
       "\n",
       "    nutritions.carbohydrates  nutritions.protein  \n",
       "0                      18.00                0.00  \n",
       "1                       5.50                0.80  \n",
       "2                      22.00                1.00  \n",
       "3                       3.90                0.90  \n",
       "4                      15.00                0.40  \n",
       "5                      27.10                1.50  \n",
       "6                       9.00                1.30  \n",
       "7                      11.30                0.75  \n",
       "8                      15.00                1.10  \n",
       "9                      17.00                0.80  \n",
       "10                     13.12                0.54  \n",
       "11                     19.00                0.80  \n",
       "12                     10.00                0.90  \n",
       "13                     22.40                2.20  \n",
       "14                     11.40                0.70  \n",
       "15                      8.30                1.00  \n",
       "16                      3.10                0.40  \n",
       "17                     12.00                1.20  \n",
       "18                      8.00                0.60  \n",
       "19                      9.00                1.10  \n",
       "20                     15.00                0.82  \n",
       "21                      5.50                0.00  \n",
       "22                     11.40                0.30  \n",
       "23                     14.00                2.60  \n",
       "24                      3.90                0.50  \n",
       "25                     11.00                0.00  \n",
       "26                      8.00                0.00  \n",
       "27                      8.30                0.00  \n",
       "28                      7.00                1.00  \n",
       "29                      8.40                0.30  \n",
       "30                     18.70                1.70  \n",
       "31                      9.00                9.00  \n",
       "32                     18.10                0.72  \n",
       "33                      9.80                1.44  \n",
       "34                      8.00                0.60  \n",
       "35                      8.53                2.00  \n",
       "36                     14.60                1.14  \n",
       "37                     12.20                0.40  \n",
       "38                     12.00                1.00  \n",
       "39                      9.50                0.90  \n",
       "40                     23.20                1.72  \n",
       "41                      7.56                1.78  "
      ]
     },
     "execution_count": 60,
     "metadata": {},
     "output_type": "execute_result"
    }
   ],
   "source": [
    "df2 = pd.json_normalize(results)\n",
    "df2"
   ]
  },
  {
   "cell_type": "code",
   "execution_count": 62,
   "id": "e38c17d4",
   "metadata": {},
   "outputs": [
    {
     "data": {
      "text/plain": [
       "('Rosaceae', 'Prunus')"
      ]
     },
     "execution_count": 62,
     "metadata": {},
     "output_type": "execute_result"
    }
   ],
   "source": [
    "cherry = df2.loc[df2[\"name\"] == 'Cherry']\n",
    "(cherry.iloc[0]['family']) , (cherry.iloc[0]['genus'])"
   ]
  },
  {
   "cell_type": "code",
   "execution_count": 63,
   "id": "a8a076de",
   "metadata": {},
   "outputs": [
    {
     "data": {
      "text/plain": [
       "96"
      ]
     },
     "execution_count": 63,
     "metadata": {},
     "output_type": "execute_result"
    }
   ],
   "source": [
    "banana = df2.loc[df2[\"name\"] == 'Banana']\n",
    "(banana.iloc[0]['nutritions.calories'])"
   ]
  },
  {
   "cell_type": "code",
   "execution_count": 65,
   "id": "44a6935b",
   "metadata": {},
   "outputs": [
    {
     "data": {
      "text/plain": [
       "array([0, 0, 0, 0, 0])"
      ]
     },
     "execution_count": 65,
     "metadata": {},
     "output_type": "execute_result"
    }
   ],
   "source": [
    "a=np.array([0,1,0,1,0])\n",
    "\n",
    "b=np.array([1,0,1,0,1])\n",
    "\n",
    "a*b"
   ]
  },
  {
   "cell_type": "code",
   "execution_count": 66,
   "id": "511f4a73",
   "metadata": {},
   "outputs": [
    {
     "data": {
      "text/plain": [
       "0"
      ]
     },
     "execution_count": 66,
     "metadata": {},
     "output_type": "execute_result"
    }
   ],
   "source": [
    "a=np.array([0,1])\n",
    "\n",
    "b=np.array([1,0])\n",
    "\n",
    "np.dot(a,b)\n",
    "\n",
    "\n",
    "\n"
   ]
  },
  {
   "cell_type": "code",
   "execution_count": 67,
   "id": "a5c858b5",
   "metadata": {},
   "outputs": [
    {
     "data": {
      "text/plain": [
       "array([11, 11, 11, 11, 11])"
      ]
     },
     "execution_count": 67,
     "metadata": {},
     "output_type": "execute_result"
    }
   ],
   "source": [
    "a=np.array([1,1,1,1,1])\n",
    "\n",
    "a+10"
   ]
  },
  {
   "cell_type": "code",
   "execution_count": 79,
   "id": "6f4a3395",
   "metadata": {},
   "outputs": [
    {
     "data": {
      "text/plain": [
       "{'A', 'B', 'C'}"
      ]
     },
     "execution_count": 79,
     "metadata": {},
     "output_type": "execute_result"
    }
   ],
   "source": [
    "int(3.2)\n",
    "\n",
    "A='1234567'\n",
    "A[1::2]\n",
    "Name=\"Michael Jackson\"\n",
    "Name.find('el')\n",
    "A=((11,12),[21,22])\n",
    "A[1]\n",
    "A[0][1]\n",
    "\n",
    "'1,2,3,4'.split(',')\n",
    "V={'A','B'}\n",
    "V.add('C')\n",
    "V\n"
   ]
  },
  {
   "cell_type": "code",
   "execution_count": 81,
   "id": "c8609a34",
   "metadata": {},
   "outputs": [
    {
     "data": {
      "text/plain": [
       "{'A', 'B', 'C'}"
      ]
     },
     "execution_count": 81,
     "metadata": {},
     "output_type": "execute_result"
    }
   ],
   "source": [
    "V.add('C')\n",
    "V"
   ]
  },
  {
   "cell_type": "code",
   "execution_count": 83,
   "id": "42b28aa0",
   "metadata": {},
   "outputs": [
    {
     "name": "stdout",
     "output_type": "stream",
     "text": [
      "1\n",
      "2\n",
      "3\n"
     ]
    }
   ],
   "source": [
    "for n in range(3):\n",
    "\n",
    "    print(n+1)"
   ]
  },
  {
   "cell_type": "code",
   "execution_count": 84,
   "id": "48982536",
   "metadata": {},
   "outputs": [
    {
     "name": "stdout",
     "output_type": "stream",
     "text": [
      "x= 2  y= 2\n"
     ]
    }
   ],
   "source": [
    "class Points(object):\n",
    "\n",
    "    def __init__(self,x,y):\n",
    "\n",
    "        self.x=x\n",
    "\n",
    "        self.y=y\n",
    "\n",
    "    def print_point(self):\n",
    "\n",
    "        print('x=',self.x,' y=',self.y)\n",
    "\n",
    "p2=Points(1,2)\n",
    "\n",
    "p2.x=2\n",
    "\n",
    "p2.print_point()"
   ]
  }
 ],
 "metadata": {
  "kernelspec": {
   "display_name": "Python 3 (ipykernel)",
   "language": "python",
   "name": "python3"
  },
  "language_info": {
   "codemirror_mode": {
    "name": "ipython",
    "version": 3
   },
   "file_extension": ".py",
   "mimetype": "text/x-python",
   "name": "python",
   "nbconvert_exporter": "python",
   "pygments_lexer": "ipython3",
   "version": "3.11.2"
  }
 },
 "nbformat": 4,
 "nbformat_minor": 5
}
